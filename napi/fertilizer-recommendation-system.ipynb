{
 "cells": [
  {
   "cell_type": "code",
   "execution_count": 2,
   "id": "d84300fb",
   "metadata": {
    "_cell_guid": "b1076dfc-b9ad-4769-8c92-a6c4dae69d19",
    "_uuid": "8f2839f25d086af736a60e9eeb907d3b93b6e0e5",
    "execution": {
     "iopub.execute_input": "2023-08-29T17:02:24.286884Z",
     "iopub.status.busy": "2023-08-29T17:02:24.286511Z",
     "iopub.status.idle": "2023-08-29T17:02:24.310041Z",
     "shell.execute_reply": "2023-08-29T17:02:24.309270Z"
    },
    "papermill": {
     "duration": 0.042009,
     "end_time": "2023-08-29T17:02:24.312340",
     "exception": false,
     "start_time": "2023-08-29T17:02:24.270331",
     "status": "completed"
    },
    "tags": []
   },
   "outputs": [],
   "source": [
    "# This Python 3 environment comes with many helpful analytics libraries installed\n",
    "# It is defined by the kaggle/python Docker image: https://github.com/kaggle/docker-python\n",
    "# For example, here's several helpful packages to load\n",
    "\n",
    "import numpy as np # linear algebra\n",
    "import pandas as pd # data processing, CSV file I/O (e.g. pd.read_csv)\n",
    "\n",
    "# Input data files are available in the read-only \"../input/\" directory\n",
    "# For example, running this (by clicking run or pressing Shift+Enter) will list all files under the input directory\n",
    "\n",
    "import os\n",
    "for dirname, _, filenames in os.walk('/kaggle/input'):\n",
    "    for filename in filenames:\n",
    "        print(os.path.join(dirname, filename))\n",
    "\n",
    "# You can write up to 20GB to the current directory (/kaggle/working/) that gets preserved as output when you create a version using \"Save & Run All\" \n",
    "# You can also write temporary files to /kaggle/temp/, but they won't be saved outside of the current session"
   ]
  },
  {
   "cell_type": "markdown",
   "id": "feb2fc05",
   "metadata": {
    "papermill": {
     "duration": 0.013514,
     "end_time": "2023-08-29T17:02:24.339942",
     "exception": false,
     "start_time": "2023-08-29T17:02:24.326428",
     "status": "completed"
    },
    "tags": []
   },
   "source": [
    "# **Loading the data**"
   ]
  },
  {
   "cell_type": "code",
   "execution_count": 6,
   "id": "d46c16b6",
   "metadata": {
    "execution": {
     "iopub.execute_input": "2023-08-29T17:02:24.369192Z",
     "iopub.status.busy": "2023-08-29T17:02:24.368796Z",
     "iopub.status.idle": "2023-08-29T17:02:25.720918Z",
     "shell.execute_reply": "2023-08-29T17:02:25.719735Z"
    },
    "papermill": {
     "duration": 1.370015,
     "end_time": "2023-08-29T17:02:25.723646",
     "exception": false,
     "start_time": "2023-08-29T17:02:24.353631",
     "status": "completed"
    },
    "tags": []
   },
   "outputs": [
    {
     "name": "stderr",
     "output_type": "stream",
     "text": [
      "Matplotlib is building the font cache; this may take a moment.\n"
     ]
    }
   ],
   "source": [
    "#Import libraries\n",
    "import numpy as np \n",
    "import pandas as pd\n",
    "import matplotlib.pyplot as plt\n",
    "import seaborn as sns"
   ]
  },
  {
   "cell_type": "code",
   "execution_count": 7,
   "id": "1da1ecd3",
   "metadata": {
    "execution": {
     "iopub.execute_input": "2023-08-29T17:02:25.753442Z",
     "iopub.status.busy": "2023-08-29T17:02:25.752868Z",
     "iopub.status.idle": "2023-08-29T17:02:25.757551Z",
     "shell.execute_reply": "2023-08-29T17:02:25.756301Z"
    },
    "papermill": {
     "duration": 0.021847,
     "end_time": "2023-08-29T17:02:25.759536",
     "exception": false,
     "start_time": "2023-08-29T17:02:25.737689",
     "status": "completed"
    },
    "tags": []
   },
   "outputs": [],
   "source": [
    "url = '/home/adi/Development/Projects/Fertilizer API/Fertilizer Recommendation.csv'"
   ]
  },
  {
   "cell_type": "code",
   "execution_count": 8,
   "id": "565da8a3",
   "metadata": {
    "execution": {
     "iopub.execute_input": "2023-08-29T17:02:25.788938Z",
     "iopub.status.busy": "2023-08-29T17:02:25.788528Z",
     "iopub.status.idle": "2023-08-29T17:02:25.840197Z",
     "shell.execute_reply": "2023-08-29T17:02:25.839168Z"
    },
    "papermill": {
     "duration": 0.068793,
     "end_time": "2023-08-29T17:02:25.842214",
     "exception": false,
     "start_time": "2023-08-29T17:02:25.773421",
     "status": "completed"
    },
    "tags": []
   },
   "outputs": [
    {
     "data": {
      "text/html": [
       "<div>\n",
       "<style scoped>\n",
       "    .dataframe tbody tr th:only-of-type {\n",
       "        vertical-align: middle;\n",
       "    }\n",
       "\n",
       "    .dataframe tbody tr th {\n",
       "        vertical-align: top;\n",
       "    }\n",
       "\n",
       "    .dataframe thead th {\n",
       "        text-align: right;\n",
       "    }\n",
       "</style>\n",
       "<table border=\"1\" class=\"dataframe\">\n",
       "  <thead>\n",
       "    <tr style=\"text-align: right;\">\n",
       "      <th></th>\n",
       "      <th>Temparature</th>\n",
       "      <th>Humidity</th>\n",
       "      <th>Moisture</th>\n",
       "      <th>Soil Type</th>\n",
       "      <th>Crop Type</th>\n",
       "      <th>Nitrogen</th>\n",
       "      <th>Potassium</th>\n",
       "      <th>Phosphorous</th>\n",
       "      <th>Fertilizer Name</th>\n",
       "    </tr>\n",
       "  </thead>\n",
       "  <tbody>\n",
       "    <tr>\n",
       "      <th>0</th>\n",
       "      <td>26</td>\n",
       "      <td>52</td>\n",
       "      <td>38</td>\n",
       "      <td>Sandy</td>\n",
       "      <td>Maize</td>\n",
       "      <td>37</td>\n",
       "      <td>0</td>\n",
       "      <td>0</td>\n",
       "      <td>Urea</td>\n",
       "    </tr>\n",
       "    <tr>\n",
       "      <th>1</th>\n",
       "      <td>29</td>\n",
       "      <td>52</td>\n",
       "      <td>45</td>\n",
       "      <td>Loamy</td>\n",
       "      <td>Sugarcane</td>\n",
       "      <td>12</td>\n",
       "      <td>0</td>\n",
       "      <td>36</td>\n",
       "      <td>DAP</td>\n",
       "    </tr>\n",
       "    <tr>\n",
       "      <th>2</th>\n",
       "      <td>34</td>\n",
       "      <td>65</td>\n",
       "      <td>62</td>\n",
       "      <td>Black</td>\n",
       "      <td>Cotton</td>\n",
       "      <td>7</td>\n",
       "      <td>9</td>\n",
       "      <td>30</td>\n",
       "      <td>14-35-14</td>\n",
       "    </tr>\n",
       "    <tr>\n",
       "      <th>3</th>\n",
       "      <td>32</td>\n",
       "      <td>62</td>\n",
       "      <td>34</td>\n",
       "      <td>Red</td>\n",
       "      <td>Tobacco</td>\n",
       "      <td>22</td>\n",
       "      <td>0</td>\n",
       "      <td>20</td>\n",
       "      <td>28-28</td>\n",
       "    </tr>\n",
       "    <tr>\n",
       "      <th>4</th>\n",
       "      <td>28</td>\n",
       "      <td>54</td>\n",
       "      <td>46</td>\n",
       "      <td>Clayey</td>\n",
       "      <td>Paddy</td>\n",
       "      <td>35</td>\n",
       "      <td>0</td>\n",
       "      <td>0</td>\n",
       "      <td>Urea</td>\n",
       "    </tr>\n",
       "    <tr>\n",
       "      <th>...</th>\n",
       "      <td>...</td>\n",
       "      <td>...</td>\n",
       "      <td>...</td>\n",
       "      <td>...</td>\n",
       "      <td>...</td>\n",
       "      <td>...</td>\n",
       "      <td>...</td>\n",
       "      <td>...</td>\n",
       "      <td>...</td>\n",
       "    </tr>\n",
       "    <tr>\n",
       "      <th>94</th>\n",
       "      <td>25</td>\n",
       "      <td>50</td>\n",
       "      <td>32</td>\n",
       "      <td>Clayey</td>\n",
       "      <td>Pulses</td>\n",
       "      <td>24</td>\n",
       "      <td>0</td>\n",
       "      <td>19</td>\n",
       "      <td>28-28</td>\n",
       "    </tr>\n",
       "    <tr>\n",
       "      <th>95</th>\n",
       "      <td>30</td>\n",
       "      <td>60</td>\n",
       "      <td>27</td>\n",
       "      <td>Red</td>\n",
       "      <td>Tobacco</td>\n",
       "      <td>4</td>\n",
       "      <td>17</td>\n",
       "      <td>17</td>\n",
       "      <td>10-26-26</td>\n",
       "    </tr>\n",
       "    <tr>\n",
       "      <th>96</th>\n",
       "      <td>38</td>\n",
       "      <td>72</td>\n",
       "      <td>51</td>\n",
       "      <td>Loamy</td>\n",
       "      <td>Wheat</td>\n",
       "      <td>39</td>\n",
       "      <td>0</td>\n",
       "      <td>0</td>\n",
       "      <td>Urea</td>\n",
       "    </tr>\n",
       "    <tr>\n",
       "      <th>97</th>\n",
       "      <td>36</td>\n",
       "      <td>60</td>\n",
       "      <td>43</td>\n",
       "      <td>Sandy</td>\n",
       "      <td>Millets</td>\n",
       "      <td>15</td>\n",
       "      <td>0</td>\n",
       "      <td>41</td>\n",
       "      <td>DAP</td>\n",
       "    </tr>\n",
       "    <tr>\n",
       "      <th>98</th>\n",
       "      <td>29</td>\n",
       "      <td>58</td>\n",
       "      <td>57</td>\n",
       "      <td>Black</td>\n",
       "      <td>Sugarcane</td>\n",
       "      <td>12</td>\n",
       "      <td>0</td>\n",
       "      <td>10</td>\n",
       "      <td>20-20</td>\n",
       "    </tr>\n",
       "  </tbody>\n",
       "</table>\n",
       "<p>99 rows × 9 columns</p>\n",
       "</div>"
      ],
      "text/plain": [
       "    Temparature  Humidity   Moisture Soil Type  Crop Type  Nitrogen  \\\n",
       "0            26         52        38     Sandy      Maize        37   \n",
       "1            29         52        45     Loamy  Sugarcane        12   \n",
       "2            34         65        62     Black     Cotton         7   \n",
       "3            32         62        34       Red    Tobacco        22   \n",
       "4            28         54        46    Clayey      Paddy        35   \n",
       "..          ...        ...       ...       ...        ...       ...   \n",
       "94           25         50        32    Clayey     Pulses        24   \n",
       "95           30         60        27       Red    Tobacco         4   \n",
       "96           38         72        51     Loamy      Wheat        39   \n",
       "97           36         60        43     Sandy    Millets        15   \n",
       "98           29         58        57     Black  Sugarcane        12   \n",
       "\n",
       "    Potassium  Phosphorous Fertilizer Name  \n",
       "0           0            0            Urea  \n",
       "1           0           36             DAP  \n",
       "2           9           30        14-35-14  \n",
       "3           0           20           28-28  \n",
       "4           0            0            Urea  \n",
       "..        ...          ...             ...  \n",
       "94          0           19           28-28  \n",
       "95         17           17        10-26-26  \n",
       "96          0            0            Urea  \n",
       "97          0           41             DAP  \n",
       "98          0           10           20-20  \n",
       "\n",
       "[99 rows x 9 columns]"
      ]
     },
     "execution_count": 8,
     "metadata": {},
     "output_type": "execute_result"
    }
   ],
   "source": [
    "#Load the data\n",
    "df=pd.read_csv(url)\n",
    "df"
   ]
  },
  {
   "cell_type": "code",
   "execution_count": 5,
   "id": "76847107",
   "metadata": {
    "execution": {
     "iopub.execute_input": "2023-08-29T17:02:25.872736Z",
     "iopub.status.busy": "2023-08-29T17:02:25.872361Z",
     "iopub.status.idle": "2023-08-29T17:02:25.884255Z",
     "shell.execute_reply": "2023-08-29T17:02:25.883458Z"
    },
    "papermill": {
     "duration": 0.029442,
     "end_time": "2023-08-29T17:02:25.886423",
     "exception": false,
     "start_time": "2023-08-29T17:02:25.856981",
     "status": "completed"
    },
    "tags": []
   },
   "outputs": [
    {
     "data": {
      "text/html": [
       "<div>\n",
       "<style scoped>\n",
       "    .dataframe tbody tr th:only-of-type {\n",
       "        vertical-align: middle;\n",
       "    }\n",
       "\n",
       "    .dataframe tbody tr th {\n",
       "        vertical-align: top;\n",
       "    }\n",
       "\n",
       "    .dataframe thead th {\n",
       "        text-align: right;\n",
       "    }\n",
       "</style>\n",
       "<table border=\"1\" class=\"dataframe\">\n",
       "  <thead>\n",
       "    <tr style=\"text-align: right;\">\n",
       "      <th></th>\n",
       "      <th>Temparature</th>\n",
       "      <th>Humidity</th>\n",
       "      <th>Moisture</th>\n",
       "      <th>Soil Type</th>\n",
       "      <th>Crop Type</th>\n",
       "      <th>Nitrogen</th>\n",
       "      <th>Potassium</th>\n",
       "      <th>Phosphorous</th>\n",
       "      <th>Fertilizer Name</th>\n",
       "    </tr>\n",
       "  </thead>\n",
       "  <tbody>\n",
       "    <tr>\n",
       "      <th>0</th>\n",
       "      <td>26</td>\n",
       "      <td>52</td>\n",
       "      <td>38</td>\n",
       "      <td>Sandy</td>\n",
       "      <td>Maize</td>\n",
       "      <td>37</td>\n",
       "      <td>0</td>\n",
       "      <td>0</td>\n",
       "      <td>Urea</td>\n",
       "    </tr>\n",
       "    <tr>\n",
       "      <th>1</th>\n",
       "      <td>29</td>\n",
       "      <td>52</td>\n",
       "      <td>45</td>\n",
       "      <td>Loamy</td>\n",
       "      <td>Sugarcane</td>\n",
       "      <td>12</td>\n",
       "      <td>0</td>\n",
       "      <td>36</td>\n",
       "      <td>DAP</td>\n",
       "    </tr>\n",
       "    <tr>\n",
       "      <th>2</th>\n",
       "      <td>34</td>\n",
       "      <td>65</td>\n",
       "      <td>62</td>\n",
       "      <td>Black</td>\n",
       "      <td>Cotton</td>\n",
       "      <td>7</td>\n",
       "      <td>9</td>\n",
       "      <td>30</td>\n",
       "      <td>14-35-14</td>\n",
       "    </tr>\n",
       "    <tr>\n",
       "      <th>3</th>\n",
       "      <td>32</td>\n",
       "      <td>62</td>\n",
       "      <td>34</td>\n",
       "      <td>Red</td>\n",
       "      <td>Tobacco</td>\n",
       "      <td>22</td>\n",
       "      <td>0</td>\n",
       "      <td>20</td>\n",
       "      <td>28-28</td>\n",
       "    </tr>\n",
       "    <tr>\n",
       "      <th>4</th>\n",
       "      <td>28</td>\n",
       "      <td>54</td>\n",
       "      <td>46</td>\n",
       "      <td>Clayey</td>\n",
       "      <td>Paddy</td>\n",
       "      <td>35</td>\n",
       "      <td>0</td>\n",
       "      <td>0</td>\n",
       "      <td>Urea</td>\n",
       "    </tr>\n",
       "  </tbody>\n",
       "</table>\n",
       "</div>"
      ],
      "text/plain": [
       "   Temparature  Humidity   Moisture Soil Type  Crop Type  Nitrogen  Potassium  \\\n",
       "0           26         52        38     Sandy      Maize        37          0   \n",
       "1           29         52        45     Loamy  Sugarcane        12          0   \n",
       "2           34         65        62     Black     Cotton         7          9   \n",
       "3           32         62        34       Red    Tobacco        22          0   \n",
       "4           28         54        46    Clayey      Paddy        35          0   \n",
       "\n",
       "   Phosphorous Fertilizer Name  \n",
       "0            0            Urea  \n",
       "1           36             DAP  \n",
       "2           30        14-35-14  \n",
       "3           20           28-28  \n",
       "4            0            Urea  "
      ]
     },
     "execution_count": 5,
     "metadata": {},
     "output_type": "execute_result"
    }
   ],
   "source": [
    "#To display first five records\n",
    "df.head(5)"
   ]
  },
  {
   "cell_type": "code",
   "execution_count": 6,
   "id": "d8acf589",
   "metadata": {
    "execution": {
     "iopub.execute_input": "2023-08-29T17:02:25.918015Z",
     "iopub.status.busy": "2023-08-29T17:02:25.917146Z",
     "iopub.status.idle": "2023-08-29T17:02:25.928172Z",
     "shell.execute_reply": "2023-08-29T17:02:25.927388Z"
    },
    "papermill": {
     "duration": 0.028958,
     "end_time": "2023-08-29T17:02:25.930198",
     "exception": false,
     "start_time": "2023-08-29T17:02:25.901240",
     "status": "completed"
    },
    "tags": []
   },
   "outputs": [
    {
     "data": {
      "text/html": [
       "<div>\n",
       "<style scoped>\n",
       "    .dataframe tbody tr th:only-of-type {\n",
       "        vertical-align: middle;\n",
       "    }\n",
       "\n",
       "    .dataframe tbody tr th {\n",
       "        vertical-align: top;\n",
       "    }\n",
       "\n",
       "    .dataframe thead th {\n",
       "        text-align: right;\n",
       "    }\n",
       "</style>\n",
       "<table border=\"1\" class=\"dataframe\">\n",
       "  <thead>\n",
       "    <tr style=\"text-align: right;\">\n",
       "      <th></th>\n",
       "      <th>Temparature</th>\n",
       "      <th>Humidity</th>\n",
       "      <th>Moisture</th>\n",
       "      <th>Soil Type</th>\n",
       "      <th>Crop Type</th>\n",
       "      <th>Nitrogen</th>\n",
       "      <th>Potassium</th>\n",
       "      <th>Phosphorous</th>\n",
       "      <th>Fertilizer Name</th>\n",
       "    </tr>\n",
       "  </thead>\n",
       "  <tbody>\n",
       "    <tr>\n",
       "      <th>94</th>\n",
       "      <td>25</td>\n",
       "      <td>50</td>\n",
       "      <td>32</td>\n",
       "      <td>Clayey</td>\n",
       "      <td>Pulses</td>\n",
       "      <td>24</td>\n",
       "      <td>0</td>\n",
       "      <td>19</td>\n",
       "      <td>28-28</td>\n",
       "    </tr>\n",
       "    <tr>\n",
       "      <th>95</th>\n",
       "      <td>30</td>\n",
       "      <td>60</td>\n",
       "      <td>27</td>\n",
       "      <td>Red</td>\n",
       "      <td>Tobacco</td>\n",
       "      <td>4</td>\n",
       "      <td>17</td>\n",
       "      <td>17</td>\n",
       "      <td>10-26-26</td>\n",
       "    </tr>\n",
       "    <tr>\n",
       "      <th>96</th>\n",
       "      <td>38</td>\n",
       "      <td>72</td>\n",
       "      <td>51</td>\n",
       "      <td>Loamy</td>\n",
       "      <td>Wheat</td>\n",
       "      <td>39</td>\n",
       "      <td>0</td>\n",
       "      <td>0</td>\n",
       "      <td>Urea</td>\n",
       "    </tr>\n",
       "    <tr>\n",
       "      <th>97</th>\n",
       "      <td>36</td>\n",
       "      <td>60</td>\n",
       "      <td>43</td>\n",
       "      <td>Sandy</td>\n",
       "      <td>Millets</td>\n",
       "      <td>15</td>\n",
       "      <td>0</td>\n",
       "      <td>41</td>\n",
       "      <td>DAP</td>\n",
       "    </tr>\n",
       "    <tr>\n",
       "      <th>98</th>\n",
       "      <td>29</td>\n",
       "      <td>58</td>\n",
       "      <td>57</td>\n",
       "      <td>Black</td>\n",
       "      <td>Sugarcane</td>\n",
       "      <td>12</td>\n",
       "      <td>0</td>\n",
       "      <td>10</td>\n",
       "      <td>20-20</td>\n",
       "    </tr>\n",
       "  </tbody>\n",
       "</table>\n",
       "</div>"
      ],
      "text/plain": [
       "    Temparature  Humidity   Moisture Soil Type  Crop Type  Nitrogen  \\\n",
       "94           25         50        32    Clayey     Pulses        24   \n",
       "95           30         60        27       Red    Tobacco         4   \n",
       "96           38         72        51     Loamy      Wheat        39   \n",
       "97           36         60        43     Sandy    Millets        15   \n",
       "98           29         58        57     Black  Sugarcane        12   \n",
       "\n",
       "    Potassium  Phosphorous Fertilizer Name  \n",
       "94          0           19           28-28  \n",
       "95         17           17        10-26-26  \n",
       "96          0            0            Urea  \n",
       "97          0           41             DAP  \n",
       "98          0           10           20-20  "
      ]
     },
     "execution_count": 6,
     "metadata": {},
     "output_type": "execute_result"
    }
   ],
   "source": [
    "#To display last five records\n",
    "df.tail(5)"
   ]
  },
  {
   "cell_type": "code",
   "execution_count": 7,
   "id": "7fe3d373",
   "metadata": {
    "execution": {
     "iopub.execute_input": "2023-08-29T17:02:25.961712Z",
     "iopub.status.busy": "2023-08-29T17:02:25.961178Z",
     "iopub.status.idle": "2023-08-29T17:02:25.968003Z",
     "shell.execute_reply": "2023-08-29T17:02:25.967111Z"
    },
    "papermill": {
     "duration": 0.025097,
     "end_time": "2023-08-29T17:02:25.970211",
     "exception": false,
     "start_time": "2023-08-29T17:02:25.945114",
     "status": "completed"
    },
    "tags": []
   },
   "outputs": [
    {
     "data": {
      "text/plain": [
       "0         Urea\n",
       "1          DAP\n",
       "2     14-35-14\n",
       "3        28-28\n",
       "4         Urea\n",
       "        ...   \n",
       "94       28-28\n",
       "95    10-26-26\n",
       "96        Urea\n",
       "97         DAP\n",
       "98       20-20\n",
       "Name: Fertilizer Name, Length: 99, dtype: object"
      ]
     },
     "execution_count": 7,
     "metadata": {},
     "output_type": "execute_result"
    }
   ],
   "source": [
    "#To display fertilizer names\n",
    "df['Fertilizer Name']"
   ]
  },
  {
   "cell_type": "markdown",
   "id": "a9624b2b",
   "metadata": {
    "papermill": {
     "duration": 0.014491,
     "end_time": "2023-08-29T17:02:25.999511",
     "exception": false,
     "start_time": "2023-08-29T17:02:25.985020",
     "status": "completed"
    },
    "tags": []
   },
   "source": [
    "# **Describing the data**"
   ]
  },
  {
   "cell_type": "code",
   "execution_count": 8,
   "id": "bf91956c",
   "metadata": {
    "execution": {
     "iopub.execute_input": "2023-08-29T17:02:26.030891Z",
     "iopub.status.busy": "2023-08-29T17:02:26.030261Z",
     "iopub.status.idle": "2023-08-29T17:02:26.058263Z",
     "shell.execute_reply": "2023-08-29T17:02:26.057201Z"
    },
    "papermill": {
     "duration": 0.04624,
     "end_time": "2023-08-29T17:02:26.060524",
     "exception": false,
     "start_time": "2023-08-29T17:02:26.014284",
     "status": "completed"
    },
    "tags": []
   },
   "outputs": [
    {
     "data": {
      "text/html": [
       "<div>\n",
       "<style scoped>\n",
       "    .dataframe tbody tr th:only-of-type {\n",
       "        vertical-align: middle;\n",
       "    }\n",
       "\n",
       "    .dataframe tbody tr th {\n",
       "        vertical-align: top;\n",
       "    }\n",
       "\n",
       "    .dataframe thead th {\n",
       "        text-align: right;\n",
       "    }\n",
       "</style>\n",
       "<table border=\"1\" class=\"dataframe\">\n",
       "  <thead>\n",
       "    <tr style=\"text-align: right;\">\n",
       "      <th></th>\n",
       "      <th>Temparature</th>\n",
       "      <th>Humidity</th>\n",
       "      <th>Moisture</th>\n",
       "      <th>Nitrogen</th>\n",
       "      <th>Potassium</th>\n",
       "      <th>Phosphorous</th>\n",
       "    </tr>\n",
       "  </thead>\n",
       "  <tbody>\n",
       "    <tr>\n",
       "      <th>count</th>\n",
       "      <td>99.000000</td>\n",
       "      <td>99.000000</td>\n",
       "      <td>99.000000</td>\n",
       "      <td>99.000000</td>\n",
       "      <td>99.000000</td>\n",
       "      <td>99.000000</td>\n",
       "    </tr>\n",
       "    <tr>\n",
       "      <th>mean</th>\n",
       "      <td>30.282828</td>\n",
       "      <td>59.151515</td>\n",
       "      <td>43.181818</td>\n",
       "      <td>18.909091</td>\n",
       "      <td>3.383838</td>\n",
       "      <td>18.606061</td>\n",
       "    </tr>\n",
       "    <tr>\n",
       "      <th>std</th>\n",
       "      <td>3.502304</td>\n",
       "      <td>5.840331</td>\n",
       "      <td>11.271568</td>\n",
       "      <td>11.599693</td>\n",
       "      <td>5.814667</td>\n",
       "      <td>13.476978</td>\n",
       "    </tr>\n",
       "    <tr>\n",
       "      <th>min</th>\n",
       "      <td>25.000000</td>\n",
       "      <td>50.000000</td>\n",
       "      <td>25.000000</td>\n",
       "      <td>4.000000</td>\n",
       "      <td>0.000000</td>\n",
       "      <td>0.000000</td>\n",
       "    </tr>\n",
       "    <tr>\n",
       "      <th>25%</th>\n",
       "      <td>28.000000</td>\n",
       "      <td>54.000000</td>\n",
       "      <td>34.000000</td>\n",
       "      <td>10.000000</td>\n",
       "      <td>0.000000</td>\n",
       "      <td>9.000000</td>\n",
       "    </tr>\n",
       "    <tr>\n",
       "      <th>50%</th>\n",
       "      <td>30.000000</td>\n",
       "      <td>60.000000</td>\n",
       "      <td>41.000000</td>\n",
       "      <td>13.000000</td>\n",
       "      <td>0.000000</td>\n",
       "      <td>19.000000</td>\n",
       "    </tr>\n",
       "    <tr>\n",
       "      <th>75%</th>\n",
       "      <td>33.000000</td>\n",
       "      <td>64.000000</td>\n",
       "      <td>50.500000</td>\n",
       "      <td>24.000000</td>\n",
       "      <td>7.500000</td>\n",
       "      <td>30.000000</td>\n",
       "    </tr>\n",
       "    <tr>\n",
       "      <th>max</th>\n",
       "      <td>38.000000</td>\n",
       "      <td>72.000000</td>\n",
       "      <td>65.000000</td>\n",
       "      <td>42.000000</td>\n",
       "      <td>19.000000</td>\n",
       "      <td>42.000000</td>\n",
       "    </tr>\n",
       "  </tbody>\n",
       "</table>\n",
       "</div>"
      ],
      "text/plain": [
       "       Temparature  Humidity    Moisture   Nitrogen  Potassium  Phosphorous\n",
       "count    99.000000  99.000000  99.000000  99.000000  99.000000    99.000000\n",
       "mean     30.282828  59.151515  43.181818  18.909091   3.383838    18.606061\n",
       "std       3.502304   5.840331  11.271568  11.599693   5.814667    13.476978\n",
       "min      25.000000  50.000000  25.000000   4.000000   0.000000     0.000000\n",
       "25%      28.000000  54.000000  34.000000  10.000000   0.000000     9.000000\n",
       "50%      30.000000  60.000000  41.000000  13.000000   0.000000    19.000000\n",
       "75%      33.000000  64.000000  50.500000  24.000000   7.500000    30.000000\n",
       "max      38.000000  72.000000  65.000000  42.000000  19.000000    42.000000"
      ]
     },
     "execution_count": 8,
     "metadata": {},
     "output_type": "execute_result"
    }
   ],
   "source": [
    "#describe() method returns description of the data in the DataFrame.\n",
    "df.describe()"
   ]
  },
  {
   "cell_type": "code",
   "execution_count": 9,
   "id": "1f58741a",
   "metadata": {
    "execution": {
     "iopub.execute_input": "2023-08-29T17:02:26.093730Z",
     "iopub.status.busy": "2023-08-29T17:02:26.093342Z",
     "iopub.status.idle": "2023-08-29T17:02:26.099807Z",
     "shell.execute_reply": "2023-08-29T17:02:26.098629Z"
    },
    "papermill": {
     "duration": 0.024769,
     "end_time": "2023-08-29T17:02:26.101896",
     "exception": false,
     "start_time": "2023-08-29T17:02:26.077127",
     "status": "completed"
    },
    "tags": []
   },
   "outputs": [
    {
     "data": {
      "text/plain": [
       "(99, 9)"
      ]
     },
     "execution_count": 9,
     "metadata": {},
     "output_type": "execute_result"
    }
   ],
   "source": [
    "#To display number of rows and columns\n",
    "df.shape"
   ]
  },
  {
   "cell_type": "code",
   "execution_count": 10,
   "id": "cef3c432",
   "metadata": {
    "execution": {
     "iopub.execute_input": "2023-08-29T17:02:26.133627Z",
     "iopub.status.busy": "2023-08-29T17:02:26.133256Z",
     "iopub.status.idle": "2023-08-29T17:02:26.154145Z",
     "shell.execute_reply": "2023-08-29T17:02:26.153192Z"
    },
    "papermill": {
     "duration": 0.039313,
     "end_time": "2023-08-29T17:02:26.156286",
     "exception": false,
     "start_time": "2023-08-29T17:02:26.116973",
     "status": "completed"
    },
    "tags": []
   },
   "outputs": [
    {
     "name": "stdout",
     "output_type": "stream",
     "text": [
      "<class 'pandas.core.frame.DataFrame'>\n",
      "RangeIndex: 99 entries, 0 to 98\n",
      "Data columns (total 9 columns):\n",
      " #   Column           Non-Null Count  Dtype \n",
      "---  ------           --------------  ----- \n",
      " 0   Temparature      99 non-null     int64 \n",
      " 1   Humidity         99 non-null     int64 \n",
      " 2   Moisture         99 non-null     int64 \n",
      " 3   Soil Type        99 non-null     object\n",
      " 4   Crop Type        99 non-null     object\n",
      " 5   Nitrogen         99 non-null     int64 \n",
      " 6   Potassium        99 non-null     int64 \n",
      " 7   Phosphorous      99 non-null     int64 \n",
      " 8   Fertilizer Name  99 non-null     object\n",
      "dtypes: int64(6), object(3)\n",
      "memory usage: 7.1+ KB\n"
     ]
    }
   ],
   "source": [
    "#To display number of columns, column labels, column data types, memory usage, range index, and the number of cells in each column (non-null values).\n",
    "df.info()"
   ]
  },
  {
   "cell_type": "code",
   "execution_count": 11,
   "id": "e18d33de",
   "metadata": {
    "execution": {
     "iopub.execute_input": "2023-08-29T17:02:26.188393Z",
     "iopub.status.busy": "2023-08-29T17:02:26.188009Z",
     "iopub.status.idle": "2023-08-29T17:02:26.193798Z",
     "shell.execute_reply": "2023-08-29T17:02:26.192894Z"
    },
    "papermill": {
     "duration": 0.024205,
     "end_time": "2023-08-29T17:02:26.195770",
     "exception": false,
     "start_time": "2023-08-29T17:02:26.171565",
     "status": "completed"
    },
    "tags": []
   },
   "outputs": [
    {
     "data": {
      "text/plain": [
       "pandas.core.frame.DataFrame"
      ]
     },
     "execution_count": 11,
     "metadata": {},
     "output_type": "execute_result"
    }
   ],
   "source": [
    "type(df)"
   ]
  },
  {
   "cell_type": "code",
   "execution_count": 12,
   "id": "84e69392",
   "metadata": {
    "execution": {
     "iopub.execute_input": "2023-08-29T17:02:26.229047Z",
     "iopub.status.busy": "2023-08-29T17:02:26.228095Z",
     "iopub.status.idle": "2023-08-29T17:02:26.234696Z",
     "shell.execute_reply": "2023-08-29T17:02:26.234022Z"
    },
    "papermill": {
     "duration": 0.024871,
     "end_time": "2023-08-29T17:02:26.236651",
     "exception": false,
     "start_time": "2023-08-29T17:02:26.211780",
     "status": "completed"
    },
    "tags": []
   },
   "outputs": [
    {
     "data": {
      "text/plain": [
       "Temparature         int64\n",
       "Humidity            int64\n",
       "Moisture            int64\n",
       "Soil Type          object\n",
       "Crop Type          object\n",
       "Nitrogen            int64\n",
       "Potassium           int64\n",
       "Phosphorous         int64\n",
       "Fertilizer Name    object\n",
       "dtype: object"
      ]
     },
     "execution_count": 12,
     "metadata": {},
     "output_type": "execute_result"
    }
   ],
   "source": [
    "#To return data type of each column. \n",
    "df.dtypes"
   ]
  },
  {
   "cell_type": "code",
   "execution_count": 13,
   "id": "64fc0400",
   "metadata": {
    "execution": {
     "iopub.execute_input": "2023-08-29T17:02:26.271324Z",
     "iopub.status.busy": "2023-08-29T17:02:26.270935Z",
     "iopub.status.idle": "2023-08-29T17:02:26.281994Z",
     "shell.execute_reply": "2023-08-29T17:02:26.280818Z"
    },
    "papermill": {
     "duration": 0.030411,
     "end_time": "2023-08-29T17:02:26.284092",
     "exception": false,
     "start_time": "2023-08-29T17:02:26.253681",
     "status": "completed"
    },
    "tags": []
   },
   "outputs": [
    {
     "data": {
      "text/plain": [
       "Temparature        14\n",
       "Humidity           13\n",
       "Moisture           41\n",
       "Soil Type           5\n",
       "Crop Type          11\n",
       "Nitrogen           24\n",
       "Potassium          13\n",
       "Phosphorous        32\n",
       "Fertilizer Name     7\n",
       "dtype: int64"
      ]
     },
     "execution_count": 13,
     "metadata": {},
     "output_type": "execute_result"
    }
   ],
   "source": [
    "#To return the number of unique values for each column\n",
    "df.nunique()"
   ]
  },
  {
   "cell_type": "code",
   "execution_count": 14,
   "id": "ccd56c83",
   "metadata": {
    "execution": {
     "iopub.execute_input": "2023-08-29T17:02:26.317418Z",
     "iopub.status.busy": "2023-08-29T17:02:26.316747Z",
     "iopub.status.idle": "2023-08-29T17:02:26.325280Z",
     "shell.execute_reply": "2023-08-29T17:02:26.324345Z"
    },
    "papermill": {
     "duration": 0.027462,
     "end_time": "2023-08-29T17:02:26.327158",
     "exception": false,
     "start_time": "2023-08-29T17:02:26.299696",
     "status": "completed"
    },
    "tags": []
   },
   "outputs": [
    {
     "data": {
      "text/plain": [
       "Temparature        99\n",
       "Humidity           99\n",
       "Moisture           99\n",
       "Soil Type          99\n",
       "Crop Type          99\n",
       "Nitrogen           99\n",
       "Potassium          99\n",
       "Phosphorous        99\n",
       "Fertilizer Name    99\n",
       "dtype: int64"
      ]
     },
     "execution_count": 14,
     "metadata": {},
     "output_type": "execute_result"
    }
   ],
   "source": [
    "#To count the number of not empty values for each row\n",
    "df.count()"
   ]
  },
  {
   "cell_type": "markdown",
   "id": "3b10b280",
   "metadata": {
    "papermill": {
     "duration": 0.015303,
     "end_time": "2023-08-29T17:02:26.358142",
     "exception": false,
     "start_time": "2023-08-29T17:02:26.342839",
     "status": "completed"
    },
    "tags": []
   },
   "source": [
    "# **Data Wrangling**"
   ]
  },
  {
   "cell_type": "code",
   "execution_count": 15,
   "id": "29204395",
   "metadata": {
    "execution": {
     "iopub.execute_input": "2023-08-29T17:02:26.390891Z",
     "iopub.status.busy": "2023-08-29T17:02:26.390481Z",
     "iopub.status.idle": "2023-08-29T17:02:26.407760Z",
     "shell.execute_reply": "2023-08-29T17:02:26.406680Z"
    },
    "papermill": {
     "duration": 0.036289,
     "end_time": "2023-08-29T17:02:26.409889",
     "exception": false,
     "start_time": "2023-08-29T17:02:26.373600",
     "status": "completed"
    },
    "tags": []
   },
   "outputs": [
    {
     "data": {
      "text/html": [
       "<div>\n",
       "<style scoped>\n",
       "    .dataframe tbody tr th:only-of-type {\n",
       "        vertical-align: middle;\n",
       "    }\n",
       "\n",
       "    .dataframe tbody tr th {\n",
       "        vertical-align: top;\n",
       "    }\n",
       "\n",
       "    .dataframe thead th {\n",
       "        text-align: right;\n",
       "    }\n",
       "</style>\n",
       "<table border=\"1\" class=\"dataframe\">\n",
       "  <thead>\n",
       "    <tr style=\"text-align: right;\">\n",
       "      <th></th>\n",
       "      <th>Temparature</th>\n",
       "      <th>Humidity</th>\n",
       "      <th>Moisture</th>\n",
       "      <th>Soil Type</th>\n",
       "      <th>Crop Type</th>\n",
       "      <th>Nitrogen</th>\n",
       "      <th>Potassium</th>\n",
       "      <th>Phosphorous</th>\n",
       "      <th>Fertilizer Name</th>\n",
       "    </tr>\n",
       "  </thead>\n",
       "  <tbody>\n",
       "    <tr>\n",
       "      <th>0</th>\n",
       "      <td>False</td>\n",
       "      <td>False</td>\n",
       "      <td>False</td>\n",
       "      <td>False</td>\n",
       "      <td>False</td>\n",
       "      <td>False</td>\n",
       "      <td>False</td>\n",
       "      <td>False</td>\n",
       "      <td>False</td>\n",
       "    </tr>\n",
       "    <tr>\n",
       "      <th>1</th>\n",
       "      <td>False</td>\n",
       "      <td>False</td>\n",
       "      <td>False</td>\n",
       "      <td>False</td>\n",
       "      <td>False</td>\n",
       "      <td>False</td>\n",
       "      <td>False</td>\n",
       "      <td>False</td>\n",
       "      <td>False</td>\n",
       "    </tr>\n",
       "    <tr>\n",
       "      <th>2</th>\n",
       "      <td>False</td>\n",
       "      <td>False</td>\n",
       "      <td>False</td>\n",
       "      <td>False</td>\n",
       "      <td>False</td>\n",
       "      <td>False</td>\n",
       "      <td>False</td>\n",
       "      <td>False</td>\n",
       "      <td>False</td>\n",
       "    </tr>\n",
       "    <tr>\n",
       "      <th>3</th>\n",
       "      <td>False</td>\n",
       "      <td>False</td>\n",
       "      <td>False</td>\n",
       "      <td>False</td>\n",
       "      <td>False</td>\n",
       "      <td>False</td>\n",
       "      <td>False</td>\n",
       "      <td>False</td>\n",
       "      <td>False</td>\n",
       "    </tr>\n",
       "    <tr>\n",
       "      <th>4</th>\n",
       "      <td>False</td>\n",
       "      <td>False</td>\n",
       "      <td>False</td>\n",
       "      <td>False</td>\n",
       "      <td>False</td>\n",
       "      <td>False</td>\n",
       "      <td>False</td>\n",
       "      <td>False</td>\n",
       "      <td>False</td>\n",
       "    </tr>\n",
       "    <tr>\n",
       "      <th>...</th>\n",
       "      <td>...</td>\n",
       "      <td>...</td>\n",
       "      <td>...</td>\n",
       "      <td>...</td>\n",
       "      <td>...</td>\n",
       "      <td>...</td>\n",
       "      <td>...</td>\n",
       "      <td>...</td>\n",
       "      <td>...</td>\n",
       "    </tr>\n",
       "    <tr>\n",
       "      <th>94</th>\n",
       "      <td>False</td>\n",
       "      <td>False</td>\n",
       "      <td>False</td>\n",
       "      <td>False</td>\n",
       "      <td>False</td>\n",
       "      <td>False</td>\n",
       "      <td>False</td>\n",
       "      <td>False</td>\n",
       "      <td>False</td>\n",
       "    </tr>\n",
       "    <tr>\n",
       "      <th>95</th>\n",
       "      <td>False</td>\n",
       "      <td>False</td>\n",
       "      <td>False</td>\n",
       "      <td>False</td>\n",
       "      <td>False</td>\n",
       "      <td>False</td>\n",
       "      <td>False</td>\n",
       "      <td>False</td>\n",
       "      <td>False</td>\n",
       "    </tr>\n",
       "    <tr>\n",
       "      <th>96</th>\n",
       "      <td>False</td>\n",
       "      <td>False</td>\n",
       "      <td>False</td>\n",
       "      <td>False</td>\n",
       "      <td>False</td>\n",
       "      <td>False</td>\n",
       "      <td>False</td>\n",
       "      <td>False</td>\n",
       "      <td>False</td>\n",
       "    </tr>\n",
       "    <tr>\n",
       "      <th>97</th>\n",
       "      <td>False</td>\n",
       "      <td>False</td>\n",
       "      <td>False</td>\n",
       "      <td>False</td>\n",
       "      <td>False</td>\n",
       "      <td>False</td>\n",
       "      <td>False</td>\n",
       "      <td>False</td>\n",
       "      <td>False</td>\n",
       "    </tr>\n",
       "    <tr>\n",
       "      <th>98</th>\n",
       "      <td>False</td>\n",
       "      <td>False</td>\n",
       "      <td>False</td>\n",
       "      <td>False</td>\n",
       "      <td>False</td>\n",
       "      <td>False</td>\n",
       "      <td>False</td>\n",
       "      <td>False</td>\n",
       "      <td>False</td>\n",
       "    </tr>\n",
       "  </tbody>\n",
       "</table>\n",
       "<p>99 rows × 9 columns</p>\n",
       "</div>"
      ],
      "text/plain": [
       "    Temparature  Humidity   Moisture  Soil Type  Crop Type  Nitrogen  \\\n",
       "0         False      False     False      False      False     False   \n",
       "1         False      False     False      False      False     False   \n",
       "2         False      False     False      False      False     False   \n",
       "3         False      False     False      False      False     False   \n",
       "4         False      False     False      False      False     False   \n",
       "..          ...        ...       ...        ...        ...       ...   \n",
       "94        False      False     False      False      False     False   \n",
       "95        False      False     False      False      False     False   \n",
       "96        False      False     False      False      False     False   \n",
       "97        False      False     False      False      False     False   \n",
       "98        False      False     False      False      False     False   \n",
       "\n",
       "    Potassium  Phosphorous  Fertilizer Name  \n",
       "0       False        False            False  \n",
       "1       False        False            False  \n",
       "2       False        False            False  \n",
       "3       False        False            False  \n",
       "4       False        False            False  \n",
       "..        ...          ...              ...  \n",
       "94      False        False            False  \n",
       "95      False        False            False  \n",
       "96      False        False            False  \n",
       "97      False        False            False  \n",
       "98      False        False            False  \n",
       "\n",
       "[99 rows x 9 columns]"
      ]
     },
     "execution_count": 15,
     "metadata": {},
     "output_type": "execute_result"
    }
   ],
   "source": [
    "#To display the number of empty values (NaN,NAN,na) in each column\n",
    "df.isna()"
   ]
  },
  {
   "cell_type": "code",
   "execution_count": 16,
   "id": "8ead2fcf",
   "metadata": {
    "execution": {
     "iopub.execute_input": "2023-08-29T17:02:26.443586Z",
     "iopub.status.busy": "2023-08-29T17:02:26.442987Z",
     "iopub.status.idle": "2023-08-29T17:02:26.451090Z",
     "shell.execute_reply": "2023-08-29T17:02:26.450128Z"
    },
    "papermill": {
     "duration": 0.027239,
     "end_time": "2023-08-29T17:02:26.452990",
     "exception": false,
     "start_time": "2023-08-29T17:02:26.425751",
     "status": "completed"
    },
    "tags": []
   },
   "outputs": [
    {
     "data": {
      "text/plain": [
       "Temparature        0\n",
       "Humidity           0\n",
       "Moisture           0\n",
       "Soil Type          0\n",
       "Crop Type          0\n",
       "Nitrogen           0\n",
       "Potassium          0\n",
       "Phosphorous        0\n",
       "Fertilizer Name    0\n",
       "dtype: int64"
      ]
     },
     "execution_count": 16,
     "metadata": {},
     "output_type": "execute_result"
    }
   ],
   "source": [
    "#Count the number of empty values (NaN,NAN,na) in each column\n",
    "df.isna().sum()"
   ]
  },
  {
   "cell_type": "code",
   "execution_count": 17,
   "id": "d584bc37",
   "metadata": {
    "execution": {
     "iopub.execute_input": "2023-08-29T17:02:26.486820Z",
     "iopub.status.busy": "2023-08-29T17:02:26.486240Z",
     "iopub.status.idle": "2023-08-29T17:02:26.493698Z",
     "shell.execute_reply": "2023-08-29T17:02:26.492925Z"
    },
    "papermill": {
     "duration": 0.02662,
     "end_time": "2023-08-29T17:02:26.495628",
     "exception": false,
     "start_time": "2023-08-29T17:02:26.469008",
     "status": "completed"
    },
    "tags": []
   },
   "outputs": [
    {
     "data": {
      "text/plain": [
       "Urea        22\n",
       "DAP         18\n",
       "28-28       17\n",
       "14-35-14    14\n",
       "20-20       14\n",
       "17-17-17     7\n",
       "10-26-26     7\n",
       "Name: Fertilizer Name, dtype: int64"
      ]
     },
     "execution_count": 17,
     "metadata": {},
     "output_type": "execute_result"
    }
   ],
   "source": [
    "df['Fertilizer Name'].value_counts()"
   ]
  },
  {
   "cell_type": "markdown",
   "id": "dbfe07fe",
   "metadata": {
    "papermill": {
     "duration": 0.015403,
     "end_time": "2023-08-29T17:02:26.526795",
     "exception": false,
     "start_time": "2023-08-29T17:02:26.511392",
     "status": "completed"
    },
    "tags": []
   },
   "source": [
    "# **Exploratory Data Analysis**"
   ]
  },
  {
   "cell_type": "code",
   "execution_count": 18,
   "id": "53df74da",
   "metadata": {
    "execution": {
     "iopub.execute_input": "2023-08-29T17:02:26.560496Z",
     "iopub.status.busy": "2023-08-29T17:02:26.559889Z",
     "iopub.status.idle": "2023-08-29T17:02:26.773694Z",
     "shell.execute_reply": "2023-08-29T17:02:26.772651Z"
    },
    "papermill": {
     "duration": 0.233505,
     "end_time": "2023-08-29T17:02:26.776075",
     "exception": false,
     "start_time": "2023-08-29T17:02:26.542570",
     "status": "completed"
    },
    "tags": []
   },
   "outputs": [
    {
     "data": {
      "image/png": "[encoded data removed]",
      "text/plain": [
       "<Figure size 640x480 with 1 Axes>"
      ]
     },
     "metadata": {},
     "output_type": "display_data"
    }
   ],
   "source": [
    "#Visualization of data using matplotlib.pyplot library\n",
    "import matplotlib.pyplot as plt\n",
    "plt.hist(df['Fertilizer Name'])\n",
    "plt.show()"
   ]
  },
  {
   "cell_type": "code",
   "execution_count": 19,
   "id": "54c91bdc",
   "metadata": {
    "execution": {
     "iopub.execute_input": "2023-08-29T17:02:26.810772Z",
     "iopub.status.busy": "2023-08-29T17:02:26.810020Z",
     "iopub.status.idle": "2023-08-29T17:02:26.818733Z",
     "shell.execute_reply": "2023-08-29T17:02:26.817722Z"
    },
    "papermill": {
     "duration": 0.028247,
     "end_time": "2023-08-29T17:02:26.820711",
     "exception": false,
     "start_time": "2023-08-29T17:02:26.792464",
     "status": "completed"
    },
    "tags": []
   },
   "outputs": [
    {
     "data": {
      "text/plain": [
       "Fertilizer Name\n",
       "10-26-26     7\n",
       "14-35-14    14\n",
       "17-17-17     7\n",
       "20-20       14\n",
       "28-28       17\n",
       "DAP         18\n",
       "Urea        22\n",
       "dtype: int64"
      ]
     },
     "execution_count": 19,
     "metadata": {},
     "output_type": "execute_result"
    }
   ],
   "source": [
    "#Another method\n",
    "df.groupby('Fertilizer Name').size()"
   ]
  },
  {
   "cell_type": "code",
   "execution_count": 20,
   "id": "4271b71c",
   "metadata": {
    "execution": {
     "iopub.execute_input": "2023-08-29T17:02:26.855736Z",
     "iopub.status.busy": "2023-08-29T17:02:26.854939Z",
     "iopub.status.idle": "2023-08-29T17:02:26.862091Z",
     "shell.execute_reply": "2023-08-29T17:02:26.861033Z"
    },
    "papermill": {
     "duration": 0.026902,
     "end_time": "2023-08-29T17:02:26.864079",
     "exception": false,
     "start_time": "2023-08-29T17:02:26.837177",
     "status": "completed"
    },
    "tags": []
   },
   "outputs": [
    {
     "data": {
      "text/plain": [
       "array(['Urea', 'DAP', '14-35-14', '28-28', 'Urea', '17-17-17', '20-20',\n",
       "       'Urea', '28-28', '14-35-14', 'DAP', '17-17-17', 'Urea', '28-28',\n",
       "       'DAP', '17-17-17', 'Urea', '28-28', 'Urea', 'DAP', '20-20',\n",
       "       '17-17-17', 'DAP', 'Urea', '20-20', '28-28', '14-35-14', 'Urea',\n",
       "       'DAP', '20-20', '28-28', 'DAP', 'Urea', '14-35-14', '28-28',\n",
       "       'Urea', '14-35-14', 'DAP', '17-17-17', 'DAP', '20-20', '14-35-14',\n",
       "       '28-28', 'Urea', 'DAP', '14-35-14', '20-20', '28-28', 'Urea',\n",
       "       '14-35-14', '28-28', '20-20', 'Urea', 'DAP', '17-17-17', '28-28',\n",
       "       'Urea', '20-20', '17-17-17', 'DAP', 'Urea', '20-20', '28-28',\n",
       "       '10-26-26', 'Urea', 'DAP', '20-20', '14-35-14', '10-26-26',\n",
       "       '20-20', '28-28', 'Urea', '28-28', 'Urea', 'DAP', '14-35-14',\n",
       "       '28-28', '20-20', '10-26-26', 'DAP', '14-35-14', 'Urea', 'DAP',\n",
       "       '20-20', '28-28', '14-35-14', '10-26-26', 'Urea', '10-26-26',\n",
       "       'DAP', '14-35-14', '10-26-26', 'Urea', '14-35-14', '28-28',\n",
       "       '10-26-26', 'Urea', 'DAP', '20-20'], dtype=object)"
      ]
     },
     "execution_count": 20,
     "metadata": {},
     "output_type": "execute_result"
    }
   ],
   "source": [
    "#Getting all values of column Fertilizer Name\n",
    "df['Fertilizer Name'].values"
   ]
  },
  {
   "cell_type": "code",
   "execution_count": 21,
   "id": "f21ea029",
   "metadata": {
    "execution": {
     "iopub.execute_input": "2023-08-29T17:02:26.899457Z",
     "iopub.status.busy": "2023-08-29T17:02:26.899057Z",
     "iopub.status.idle": "2023-08-29T17:02:26.911144Z",
     "shell.execute_reply": "2023-08-29T17:02:26.909765Z"
    },
    "papermill": {
     "duration": 0.032046,
     "end_time": "2023-08-29T17:02:26.913125",
     "exception": false,
     "start_time": "2023-08-29T17:02:26.881079",
     "status": "completed"
    },
    "tags": []
   },
   "outputs": [
    {
     "name": "stdout",
     "output_type": "stream",
     "text": [
      "[22, 18, 14, 17, 7, 14, 7]\n"
     ]
    }
   ],
   "source": [
    "data=['Urea', 'DAP', '14-35-14', '28-28', 'Urea', '17-17-17', '20-20',\n",
    "       'Urea', '28-28', '14-35-14', 'DAP', '17-17-17', 'Urea', '28-28',\n",
    "       'DAP', '17-17-17', 'Urea', '28-28', 'Urea', 'DAP', '20-20',\n",
    "       '17-17-17', 'DAP', 'Urea', '20-20', '28-28', '14-35-14', 'Urea',\n",
    "       'DAP', '20-20', '28-28', 'DAP', 'Urea', '14-35-14', '28-28',\n",
    "       'Urea', '14-35-14', 'DAP', '17-17-17', 'DAP', '20-20', '14-35-14',\n",
    "       '28-28', 'Urea', 'DAP', '14-35-14', '20-20', '28-28', 'Urea',\n",
    "       '14-35-14', '28-28', '20-20', 'Urea', 'DAP', '17-17-17', '28-28',\n",
    "       'Urea', '20-20', '17-17-17', 'DAP', 'Urea', '20-20', '28-28',\n",
    "       '10-26-26', 'Urea', 'DAP', '20-20', '14-35-14', '10-26-26',\n",
    "       '20-20', '28-28', 'Urea', '28-28', 'Urea', 'DAP', '14-35-14',\n",
    "       '28-28', '20-20', '10-26-26', 'DAP', '14-35-14', 'Urea', 'DAP',\n",
    "       '20-20', '28-28', '14-35-14', '10-26-26', 'Urea', '10-26-26',\n",
    "       'DAP', '14-35-14', '10-26-26', 'Urea', '14-35-14', '28-28',\n",
    "       '10-26-26', 'Urea', 'DAP', '20-20']\n",
    "List=[]\n",
    "UreaCount=0;\n",
    "DAPCount=0;\n",
    "F143514Count=0;\n",
    "F2828Count=0;\n",
    "F171717Count=0;\n",
    "F2020Count=0;\n",
    "F102626Count=0;\n",
    "for x in data:\n",
    "    if x=='Urea':\n",
    "       UreaCount = UreaCount + 1;\n",
    "    elif x=='DAP':\n",
    "       DAPCount = DAPCount + 1;\n",
    "    elif x=='14-35-14':\n",
    "       F143514Count = F143514Count + 1;\n",
    "    elif x=='28-28':\n",
    "       F2828Count = F2828Count + 1;\n",
    "    elif x=='17-17-17':\n",
    "       F171717Count = F171717Count + 1;\n",
    "    elif x=='20-20':\n",
    "       F2020Count = F2020Count + 1;\n",
    "    elif x=='10-26-26':\n",
    "       F102626Count = F102626Count + 1;\n",
    "List.append(UreaCount)\n",
    "List.append(DAPCount)\n",
    "List.append(F143514Count)\n",
    "List.append(F2828Count)\n",
    "List.append(F171717Count)\n",
    "List.append(F2020Count)\n",
    "List.append(F102626Count)\n",
    "print(List)"
   ]
  },
  {
   "cell_type": "code",
   "execution_count": 22,
   "id": "a63808dc",
   "metadata": {
    "execution": {
     "iopub.execute_input": "2023-08-29T17:02:26.948632Z",
     "iopub.status.busy": "2023-08-29T17:02:26.948166Z",
     "iopub.status.idle": "2023-08-29T17:02:27.099599Z",
     "shell.execute_reply": "2023-08-29T17:02:27.098271Z"
    },
    "papermill": {
     "duration": 0.171995,
     "end_time": "2023-08-29T17:02:27.102042",
     "exception": false,
     "start_time": "2023-08-29T17:02:26.930047",
     "status": "completed"
    },
    "tags": []
   },
   "outputs": [
    {
     "data": {
      "image/png": "[encoded data removed]",
      "text/plain": [
       "<Figure size 640x480 with 1 Axes>"
      ]
     },
     "metadata": {},
     "output_type": "display_data"
    }
   ],
   "source": [
    "#Visualizing it using piechart\n",
    "import matplotlib.pyplot as plt\n",
    "plt.pie(List,labels=[\"Urea\",\"DAP\",\"14-35-14\",\"28-28\",\"17-17-17\",\"20-20\",\"10-26-26\"])\n",
    "plt.show()"
   ]
  },
  {
   "cell_type": "code",
   "execution_count": 23,
   "id": "06154886",
   "metadata": {
    "execution": {
     "iopub.execute_input": "2023-08-29T17:02:27.139079Z",
     "iopub.status.busy": "2023-08-29T17:02:27.138665Z",
     "iopub.status.idle": "2023-08-29T17:02:27.443136Z",
     "shell.execute_reply": "2023-08-29T17:02:27.442042Z"
    },
    "papermill": {
     "duration": 0.32596,
     "end_time": "2023-08-29T17:02:27.445759",
     "exception": false,
     "start_time": "2023-08-29T17:02:27.119799",
     "status": "completed"
    },
    "tags": []
   },
   "outputs": [
    {
     "data": {
      "image/png": "[encoded data removed]",
      "text/plain": [
       "<Figure size 640x480 with 1 Axes>"
      ]
     },
     "metadata": {},
     "output_type": "display_data"
    }
   ],
   "source": [
    "import matplotlib.pyplot as plt\n",
    "x=df['Fertilizer Name']\n",
    "y=df['Soil Type']\n",
    "plt.bar(x,y)\n",
    "plt.title(\"Barchart of fertilizer name and soil type\")\n",
    "plt.xlabel(\"Fertilizer Name\")\n",
    "plt.ylabel(\"Soil Type\")\n",
    "plt.show()"
   ]
  },
  {
   "cell_type": "code",
   "execution_count": 24,
   "id": "696b1724",
   "metadata": {
    "execution": {
     "iopub.execute_input": "2023-08-29T17:02:27.495389Z",
     "iopub.status.busy": "2023-08-29T17:02:27.494731Z",
     "iopub.status.idle": "2023-08-29T17:02:27.867805Z",
     "shell.execute_reply": "2023-08-29T17:02:27.867030Z"
    },
    "papermill": {
     "duration": 0.394577,
     "end_time": "2023-08-29T17:02:27.869997",
     "exception": false,
     "start_time": "2023-08-29T17:02:27.475420",
     "status": "completed"
    },
    "tags": []
   },
   "outputs": [
    {
     "data": {
      "image/png": "[encoded data removed]",
      "text/plain": [
       "<Figure size 640x480 with 1 Axes>"
      ]
     },
     "metadata": {},
     "output_type": "display_data"
    }
   ],
   "source": [
    "import matplotlib.pyplot as plt\n",
    "x=df['Fertilizer Name']\n",
    "y=df['Crop Type']\n",
    "plt.bar(x,y)\n",
    "plt.title(\"Barchart of fertilizer name and crop type\")\n",
    "plt.xlabel(\"Fertilizer Name\")\n",
    "plt.ylabel(\"Crop Type\")\n",
    "plt.show()"
   ]
  },
  {
   "cell_type": "code",
   "execution_count": 25,
   "id": "d5e08172",
   "metadata": {
    "execution": {
     "iopub.execute_input": "2023-08-29T17:02:27.908724Z",
     "iopub.status.busy": "2023-08-29T17:02:27.907999Z",
     "iopub.status.idle": "2023-08-29T17:02:28.143421Z",
     "shell.execute_reply": "2023-08-29T17:02:28.142319Z"
    },
    "papermill": {
     "duration": 0.257502,
     "end_time": "2023-08-29T17:02:28.145588",
     "exception": false,
     "start_time": "2023-08-29T17:02:27.888086",
     "status": "completed"
    },
    "tags": []
   },
   "outputs": [
    {
     "data": {
      "text/plain": [
       "<Axes: xlabel='Fertilizer Name', ylabel='count'>"
      ]
     },
     "execution_count": 25,
     "metadata": {},
     "output_type": "execute_result"
    },
    {
     "data": {
      "image/png": "[encoded data removed]",
      "text/plain": [
       "<Figure size 640x480 with 1 Axes>"
      ]
     },
     "metadata": {},
     "output_type": "display_data"
    }
   ],
   "source": [
    "#Visualization of data using seaborn library\n",
    "import seaborn as sns\n",
    "#Visualizing fertilizer name using countplot\n",
    "#A count plot is helpful when dealing with categorical values. It is used to plot the frequency of the different categories.\n",
    "sns.countplot(x='Fertilizer Name',data=df)"
   ]
  },
  {
   "cell_type": "code",
   "execution_count": 26,
   "id": "d74add35",
   "metadata": {
    "execution": {
     "iopub.execute_input": "2023-08-29T17:02:28.184103Z",
     "iopub.status.busy": "2023-08-29T17:02:28.183611Z",
     "iopub.status.idle": "2023-08-29T17:02:28.464868Z",
     "shell.execute_reply": "2023-08-29T17:02:28.463823Z"
    },
    "papermill": {
     "duration": 0.303007,
     "end_time": "2023-08-29T17:02:28.467076",
     "exception": false,
     "start_time": "2023-08-29T17:02:28.164069",
     "status": "completed"
    },
    "tags": []
   },
   "outputs": [
    {
     "data": {
      "text/plain": [
       "<Axes: >"
      ]
     },
     "execution_count": 26,
     "metadata": {},
     "output_type": "execute_result"
    },
    {
     "data": {
      "image/png": "[encoded data removed]",
      "text/plain": [
       "<Figure size 640x480 with 1 Axes>"
      ]
     },
     "metadata": {},
     "output_type": "display_data"
    }
   ],
   "source": [
    "#Visualizing data using boxplot\n",
    "sns.boxplot(data=df)\n",
    "#Here we got boxplot of all the columns "
   ]
  },
  {
   "cell_type": "code",
   "execution_count": 27,
   "id": "0b238452",
   "metadata": {
    "execution": {
     "iopub.execute_input": "2023-08-29T17:02:28.507087Z",
     "iopub.status.busy": "2023-08-29T17:02:28.506406Z",
     "iopub.status.idle": "2023-08-29T17:02:28.768659Z",
     "shell.execute_reply": "2023-08-29T17:02:28.767894Z"
    },
    "papermill": {
     "duration": 0.284417,
     "end_time": "2023-08-29T17:02:28.770631",
     "exception": false,
     "start_time": "2023-08-29T17:02:28.486214",
     "status": "completed"
    },
    "tags": []
   },
   "outputs": [
    {
     "data": {
      "text/plain": [
       "<Axes: xlabel='Soil Type', ylabel='Temparature'>"
      ]
     },
     "execution_count": 27,
     "metadata": {},
     "output_type": "execute_result"
    },
    {
     "data": {
      "image/png": "[encoded data removed]",
      "text/plain": [
       "<Figure size 640x480 with 1 Axes>"
      ]
     },
     "metadata": {},
     "output_type": "display_data"
    }
   ],
   "source": [
    "#relation of soil type with temperature \n",
    "sns.boxplot(x=df['Soil Type'],y=df['Temparature'])"
   ]
  },
  {
   "cell_type": "code",
   "execution_count": 28,
   "id": "0d3cc8a4",
   "metadata": {
    "execution": {
     "iopub.execute_input": "2023-08-29T17:02:28.811386Z",
     "iopub.status.busy": "2023-08-29T17:02:28.810712Z",
     "iopub.status.idle": "2023-08-29T17:02:29.065839Z",
     "shell.execute_reply": "2023-08-29T17:02:29.064615Z"
    },
    "papermill": {
     "duration": 0.278116,
     "end_time": "2023-08-29T17:02:29.068258",
     "exception": false,
     "start_time": "2023-08-29T17:02:28.790142",
     "status": "completed"
    },
    "tags": []
   },
   "outputs": [
    {
     "data": {
      "text/plain": [
       "<Axes: xlabel='Soil Type', ylabel='Humidity '>"
      ]
     },
     "execution_count": 28,
     "metadata": {},
     "output_type": "execute_result"
    },
    {
     "data": {
      "image/png": "[encoded data removed]",
      "text/plain": [
       "<Figure size 640x480 with 1 Axes>"
      ]
     },
     "metadata": {},
     "output_type": "display_data"
    }
   ],
   "source": [
    "#relation of soil type with humidity\n",
    "sns.boxplot(x=df['Soil Type'],y=df['Humidity '])"
   ]
  },
  {
   "cell_type": "code",
   "execution_count": 29,
   "id": "cb902914",
   "metadata": {
    "execution": {
     "iopub.execute_input": "2023-08-29T17:02:29.111351Z",
     "iopub.status.busy": "2023-08-29T17:02:29.110978Z",
     "iopub.status.idle": "2023-08-29T17:02:30.611356Z",
     "shell.execute_reply": "2023-08-29T17:02:30.610094Z"
    },
    "papermill": {
     "duration": 1.525277,
     "end_time": "2023-08-29T17:02:30.613506",
     "exception": false,
     "start_time": "2023-08-29T17:02:29.088229",
     "status": "completed"
    },
    "tags": []
   },
   "outputs": [
    {
     "data": {
      "text/plain": [
       "<Axes: xlabel='Soil Type', ylabel='Temparature'>"
      ]
     },
     "execution_count": 29,
     "metadata": {},
     "output_type": "execute_result"
    },
    {
     "data": {
      "image/png": "[encoded data removed]",
      "text/plain": [
       "<Figure size 1500x600 with 1 Axes>"
      ]
     },
     "metadata": {},
     "output_type": "display_data"
    }
   ],
   "source": [
    "#relation of soil type and temperature with output variable\n",
    "plt.figure(figsize=(15,6))\n",
    "sns.boxplot(x=df['Soil Type'],y=df['Temparature'],hue=df['Fertilizer Name'])"
   ]
  },
  {
   "cell_type": "code",
   "execution_count": 30,
   "id": "b63327e4",
   "metadata": {
    "execution": {
     "iopub.execute_input": "2023-08-29T17:02:30.656285Z",
     "iopub.status.busy": "2023-08-29T17:02:30.655527Z",
     "iopub.status.idle": "2023-08-29T17:02:31.460012Z",
     "shell.execute_reply": "2023-08-29T17:02:31.457926Z"
    },
    "papermill": {
     "duration": 0.828172,
     "end_time": "2023-08-29T17:02:31.462236",
     "exception": false,
     "start_time": "2023-08-29T17:02:30.634064",
     "status": "completed"
    },
    "tags": []
   },
   "outputs": [
    {
     "data": {
      "text/plain": [
       "<Axes: xlabel='Soil Type', ylabel='Humidity '>"
      ]
     },
     "execution_count": 30,
     "metadata": {},
     "output_type": "execute_result"
    },
    {
     "data": {
      "image/png": "[encoded data removed]",
      "text/plain": [
       "<Figure size 1500x800 with 1 Axes>"
      ]
     },
     "metadata": {},
     "output_type": "display_data"
    }
   ],
   "source": [
    "#relation of soil type with humidity with output variable\n",
    "plt.figure(figsize=(15,8))\n",
    "sns.boxplot(x=df['Soil Type'],y=df['Humidity '],hue=df['Fertilizer Name'])"
   ]
  },
  {
   "cell_type": "code",
   "execution_count": 31,
   "id": "4a78a9be",
   "metadata": {
    "execution": {
     "iopub.execute_input": "2023-08-29T17:02:31.506983Z",
     "iopub.status.busy": "2023-08-29T17:02:31.506575Z",
     "iopub.status.idle": "2023-08-29T17:02:31.907054Z",
     "shell.execute_reply": "2023-08-29T17:02:31.905997Z"
    },
    "papermill": {
     "duration": 0.425576,
     "end_time": "2023-08-29T17:02:31.909634",
     "exception": false,
     "start_time": "2023-08-29T17:02:31.484058",
     "status": "completed"
    },
    "tags": []
   },
   "outputs": [
    {
     "data": {
      "text/plain": [
       "<Axes: xlabel='Crop Type', ylabel='Temparature'>"
      ]
     },
     "execution_count": 31,
     "metadata": {},
     "output_type": "execute_result"
    },
    {
     "data": {
      "image/png": "[encoded data removed]",
      "text/plain": [
       "<Figure size 1500x600 with 1 Axes>"
      ]
     },
     "metadata": {},
     "output_type": "display_data"
    }
   ],
   "source": [
    "#relation of crop type with temperature \n",
    "plt.figure(figsize=(15,6))\n",
    "sns.boxplot(x=df['Crop Type'],y=df['Temparature'])"
   ]
  },
  {
   "cell_type": "code",
   "execution_count": 32,
   "id": "e765ff42",
   "metadata": {
    "execution": {
     "iopub.execute_input": "2023-08-29T17:02:31.956719Z",
     "iopub.status.busy": "2023-08-29T17:02:31.955710Z",
     "iopub.status.idle": "2023-08-29T17:02:32.375981Z",
     "shell.execute_reply": "2023-08-29T17:02:32.375016Z"
    },
    "papermill": {
     "duration": 0.445865,
     "end_time": "2023-08-29T17:02:32.378102",
     "exception": false,
     "start_time": "2023-08-29T17:02:31.932237",
     "status": "completed"
    },
    "tags": []
   },
   "outputs": [
    {
     "data": {
      "text/plain": [
       "<Axes: xlabel='Crop Type', ylabel='Humidity '>"
      ]
     },
     "execution_count": 32,
     "metadata": {},
     "output_type": "execute_result"
    },
    {
     "data": {
      "image/png": "[encoded data removed]",
      "text/plain": [
       "<Figure size 1500x800 with 1 Axes>"
      ]
     },
     "metadata": {},
     "output_type": "display_data"
    }
   ],
   "source": [
    "#relation of crop type with humidity\n",
    "plt.figure(figsize=(15,8))\n",
    "sns.boxplot(x=df['Crop Type'],y=df['Humidity '])"
   ]
  },
  {
   "cell_type": "code",
   "execution_count": 33,
   "id": "88f6d104",
   "metadata": {
    "execution": {
     "iopub.execute_input": "2023-08-29T17:02:32.426344Z",
     "iopub.status.busy": "2023-08-29T17:02:32.425604Z",
     "iopub.status.idle": "2023-08-29T17:02:34.571933Z",
     "shell.execute_reply": "2023-08-29T17:02:34.570871Z"
    },
    "papermill": {
     "duration": 2.173011,
     "end_time": "2023-08-29T17:02:34.574077",
     "exception": false,
     "start_time": "2023-08-29T17:02:32.401066",
     "status": "completed"
    },
    "tags": []
   },
   "outputs": [
    {
     "data": {
      "text/plain": [
       "<Axes: xlabel='Crop Type', ylabel='Temparature'>"
      ]
     },
     "execution_count": 33,
     "metadata": {},
     "output_type": "execute_result"
    },
    {
     "data": {
      "image/png": "[encoded data removed]",
      "text/plain": [
       "<Figure size 1500x600 with 1 Axes>"
      ]
     },
     "metadata": {},
     "output_type": "display_data"
    }
   ],
   "source": [
    "#relation of crop type and temperature with output variable\n",
    "plt.figure(figsize=(15,6))\n",
    "sns.boxplot(x=df['Crop Type'],y=df['Temparature'],hue=df['Fertilizer Name'])"
   ]
  },
  {
   "cell_type": "code",
   "execution_count": 34,
   "id": "d0e88ad7",
   "metadata": {
    "execution": {
     "iopub.execute_input": "2023-08-29T17:02:34.622159Z",
     "iopub.status.busy": "2023-08-29T17:02:34.621763Z",
     "iopub.status.idle": "2023-08-29T17:02:35.811913Z",
     "shell.execute_reply": "2023-08-29T17:02:35.811066Z"
    },
    "papermill": {
     "duration": 1.216808,
     "end_time": "2023-08-29T17:02:35.814118",
     "exception": false,
     "start_time": "2023-08-29T17:02:34.597310",
     "status": "completed"
    },
    "tags": []
   },
   "outputs": [
    {
     "data": {
      "text/plain": [
       "<Axes: xlabel='Crop Type', ylabel='Humidity '>"
      ]
     },
     "execution_count": 34,
     "metadata": {},
     "output_type": "execute_result"
    },
    {
     "data": {
      "image/png": "[encoded data removed]",
      "text/plain": [
       "<Figure size 1500x800 with 1 Axes>"
      ]
     },
     "metadata": {},
     "output_type": "display_data"
    }
   ],
   "source": [
    "#relation of crop type with humidity with output variable\n",
    "plt.figure(figsize=(15,8))\n",
    "sns.boxplot(x=df['Crop Type'],y=df['Humidity '],hue=df['Fertilizer Name'])"
   ]
  },
  {
   "cell_type": "markdown",
   "id": "a6124379",
   "metadata": {
    "papermill": {
     "duration": 0.0238,
     "end_time": "2023-08-29T17:02:35.862523",
     "exception": false,
     "start_time": "2023-08-29T17:02:35.838723",
     "status": "completed"
    },
    "tags": []
   },
   "source": [
    "**Encoding categorical data values**"
   ]
  },
  {
   "cell_type": "code",
   "execution_count": 14,
   "id": "627cd6ed",
   "metadata": {
    "execution": {
     "iopub.execute_input": "2023-08-29T17:02:35.912602Z",
     "iopub.status.busy": "2023-08-29T17:02:35.911667Z",
     "iopub.status.idle": "2023-08-29T17:02:35.918484Z",
     "shell.execute_reply": "2023-08-29T17:02:35.917564Z"
    },
    "papermill": {
     "duration": 0.034444,
     "end_time": "2023-08-29T17:02:35.920601",
     "exception": false,
     "start_time": "2023-08-29T17:02:35.886157",
     "status": "completed"
    },
    "tags": []
   },
   "outputs": [
    {
     "data": {
      "text/plain": [
       "array(['Urea', 'DAP', '14-35-14', '28-28', 'Urea', '17-17-17', '20-20',\n",
       "       'Urea', '28-28', '14-35-14', 'DAP', '17-17-17', 'Urea', '28-28',\n",
       "       'DAP', '17-17-17', 'Urea', '28-28', 'Urea', 'DAP', '20-20',\n",
       "       '17-17-17', 'DAP', 'Urea', '20-20', '28-28', '14-35-14', 'Urea',\n",
       "       'DAP', '20-20', '28-28', 'DAP', 'Urea', '14-35-14', '28-28',\n",
       "       'Urea', '14-35-14', 'DAP', '17-17-17', 'DAP', '20-20', '14-35-14',\n",
       "       '28-28', 'Urea', 'DAP', '14-35-14', '20-20', '28-28', 'Urea',\n",
       "       '14-35-14', '28-28', '20-20', 'Urea', 'DAP', '17-17-17', '28-28',\n",
       "       'Urea', '20-20', '17-17-17', 'DAP', 'Urea', '20-20', '28-28',\n",
       "       '10-26-26', 'Urea', 'DAP', '20-20', '14-35-14', '10-26-26',\n",
       "       '20-20', '28-28', 'Urea', '28-28', 'Urea', 'DAP', '14-35-14',\n",
       "       '28-28', '20-20', '10-26-26', 'DAP', '14-35-14', 'Urea', 'DAP',\n",
       "       '20-20', '28-28', '14-35-14', '10-26-26', 'Urea', '10-26-26',\n",
       "       'DAP', '14-35-14', '10-26-26', 'Urea', '14-35-14', '28-28',\n",
       "       '10-26-26', 'Urea', 'DAP', '20-20'], dtype=object)"
      ]
     },
     "execution_count": 14,
     "metadata": {},
     "output_type": "execute_result"
    }
   ],
   "source": [
    "#To display the values of column fertilizer name\n",
    "df.iloc[:,8].values"
   ]
  },
  {
   "cell_type": "code",
   "execution_count": 16,
   "id": "9e4aff24",
   "metadata": {
    "execution": {
     "iopub.execute_input": "2023-08-29T17:02:35.971055Z",
     "iopub.status.busy": "2023-08-29T17:02:35.970639Z",
     "iopub.status.idle": "2023-08-29T17:02:35.982183Z",
     "shell.execute_reply": "2023-08-29T17:02:35.980677Z"
    },
    "papermill": {
     "duration": 0.039204,
     "end_time": "2023-08-29T17:02:35.984262",
     "exception": false,
     "start_time": "2023-08-29T17:02:35.945058",
     "status": "completed"
    },
    "tags": []
   },
   "outputs": [
    {
     "name": "stdout",
     "output_type": "stream",
     "text": [
      "    Temparature  Humidity   Moisture Soil Type  Crop Type  Nitrogen  \\\n",
      "0            26         52        38     Sandy      Maize        37   \n",
      "1            29         52        45     Loamy  Sugarcane        12   \n",
      "2            34         65        62     Black     Cotton         7   \n",
      "3            32         62        34       Red    Tobacco        22   \n",
      "4            28         54        46    Clayey      Paddy        35   \n",
      "..          ...        ...       ...       ...        ...       ...   \n",
      "94           25         50        32    Clayey     Pulses        24   \n",
      "95           30         60        27       Red    Tobacco         4   \n",
      "96           38         72        51     Loamy      Wheat        39   \n",
      "97           36         60        43     Sandy    Millets        15   \n",
      "98           29         58        57     Black  Sugarcane        12   \n",
      "\n",
      "    Potassium  Phosphorous  Fertilizer Name_10-26-26  \\\n",
      "0           0            0                     False   \n",
      "1           0           36                     False   \n",
      "2           9           30                     False   \n",
      "3           0           20                     False   \n",
      "4           0            0                     False   \n",
      "..        ...          ...                       ...   \n",
      "94          0           19                     False   \n",
      "95         17           17                      True   \n",
      "96          0            0                     False   \n",
      "97          0           41                     False   \n",
      "98          0           10                     False   \n",
      "\n",
      "    Fertilizer Name_14-35-14  Fertilizer Name_17-17-17  Fertilizer Name_20-20  \\\n",
      "0                      False                     False                  False   \n",
      "1                      False                     False                  False   \n",
      "2                       True                     False                  False   \n",
      "3                      False                     False                  False   \n",
      "4                      False                     False                  False   \n",
      "..                       ...                       ...                    ...   \n",
      "94                     False                     False                  False   \n",
      "95                     False                     False                  False   \n",
      "96                     False                     False                  False   \n",
      "97                     False                     False                  False   \n",
      "98                     False                     False                   True   \n",
      "\n",
      "    Fertilizer Name_28-28  Fertilizer Name_DAP  Fertilizer Name_Urea  \n",
      "0                   False                False                  True  \n",
      "1                   False                 True                 False  \n",
      "2                   False                False                 False  \n",
      "3                    True                False                 False  \n",
      "4                   False                False                  True  \n",
      "..                    ...                  ...                   ...  \n",
      "94                   True                False                 False  \n",
      "95                  False                False                 False  \n",
      "96                  False                False                  True  \n",
      "97                  False                 True                 False  \n",
      "98                  False                False                 False  \n",
      "\n",
      "[99 rows x 15 columns]\n"
     ]
    }
   ],
   "source": [
    "#Encoding Fertilizer Name using get_dummies\n",
    "one_hot_encoded_data = pd.get_dummies(data=df, columns = ['Fertilizer Name'])\n",
    "print(one_hot_encoded_data)"
   ]
  },
  {
   "cell_type": "code",
   "execution_count": 17,
   "id": "8f1ba8ed",
   "metadata": {
    "execution": {
     "iopub.execute_input": "2023-08-29T17:02:36.034684Z",
     "iopub.status.busy": "2023-08-29T17:02:36.034037Z",
     "iopub.status.idle": "2023-08-29T17:02:36.201459Z",
     "shell.execute_reply": "2023-08-29T17:02:36.200584Z"
    },
    "papermill": {
     "duration": 0.194994,
     "end_time": "2023-08-29T17:02:36.203666",
     "exception": false,
     "start_time": "2023-08-29T17:02:36.008672",
     "status": "completed"
    },
    "tags": []
   },
   "outputs": [
    {
     "data": {
      "text/plain": [
       "array([0., 0., 0., 0., 0., 0., 0., 0., 0., 0., 0., 0., 0., 0., 0., 0., 0.,\n",
       "       0., 0., 0., 0., 0., 0., 0., 0., 0., 0., 0., 0., 0., 0., 0., 0., 0.,\n",
       "       0., 0., 0., 0., 0., 0., 0., 0., 0., 0., 0., 0., 0., 0., 0., 0., 0.,\n",
       "       0., 0., 0., 0., 0., 0., 0., 0., 0., 0., 0., 0., 1., 0., 0., 0., 0.,\n",
       "       1., 0., 0., 0., 0., 0., 0., 0., 0., 0., 1., 0., 0., 0., 0., 0., 0.,\n",
       "       0., 1., 0., 1., 0., 0., 1., 0., 0., 0., 1., 0., 0., 0.])"
      ]
     },
     "execution_count": 17,
     "metadata": {},
     "output_type": "execute_result"
    }
   ],
   "source": [
    "from sklearn.preprocessing import OneHotEncoder\n",
    "onehot_encoder=OneHotEncoder()\n",
    "df['Fertilizer Name']=onehot_encoder.fit_transform(df[['Fertilizer Name']]).toarray()\n",
    "df['Fertilizer Name'].values"
   ]
  },
  {
   "cell_type": "code",
   "execution_count": 18,
   "id": "9c415e94",
   "metadata": {
    "execution": {
     "iopub.execute_input": "2023-08-29T17:02:36.255019Z",
     "iopub.status.busy": "2023-08-29T17:02:36.253932Z",
     "iopub.status.idle": "2023-08-29T17:02:36.263909Z",
     "shell.execute_reply": "2023-08-29T17:02:36.263116Z"
    },
    "papermill": {
     "duration": 0.037626,
     "end_time": "2023-08-29T17:02:36.265760",
     "exception": false,
     "start_time": "2023-08-29T17:02:36.228134",
     "status": "completed"
    },
    "tags": []
   },
   "outputs": [
    {
     "data": {
      "text/plain": [
       "array([0., 0., 1., 0., 0., 0., 0., 0., 0., 1., 0., 0., 0., 0., 0., 1., 0.,\n",
       "       0., 1., 0., 0., 0., 0., 1., 0., 0., 0., 0., 1., 0., 0., 0., 0., 0.,\n",
       "       0., 1., 0., 0., 0., 0., 0., 0., 0., 1., 0., 0., 1., 0., 0., 0., 0.,\n",
       "       1., 0., 0., 0., 1., 0., 0., 0., 0., 0., 0., 1., 0., 1., 0., 1., 0.,\n",
       "       0., 0., 0., 0., 0., 1., 0., 0., 0., 0., 0., 0., 0., 0., 1., 0., 0.,\n",
       "       0., 0., 1., 0., 0., 1., 0., 0., 0., 0., 0., 0., 0., 1.])"
      ]
     },
     "execution_count": 18,
     "metadata": {},
     "output_type": "execute_result"
    }
   ],
   "source": [
    "from sklearn.preprocessing import OneHotEncoder\n",
    "onehot_encoder=OneHotEncoder()\n",
    "df['Soil Type']=onehot_encoder.fit_transform(df[['Soil Type']]).toarray()\n",
    "df['Soil Type'].values"
   ]
  },
  {
   "cell_type": "code",
   "execution_count": 19,
   "id": "51570834",
   "metadata": {
    "execution": {
     "iopub.execute_input": "2023-08-29T17:02:36.315878Z",
     "iopub.status.busy": "2023-08-29T17:02:36.315490Z",
     "iopub.status.idle": "2023-08-29T17:02:36.326724Z",
     "shell.execute_reply": "2023-08-29T17:02:36.325728Z"
    },
    "papermill": {
     "duration": 0.038675,
     "end_time": "2023-08-29T17:02:36.328712",
     "exception": false,
     "start_time": "2023-08-29T17:02:36.290037",
     "status": "completed"
    },
    "tags": []
   },
   "outputs": [
    {
     "data": {
      "text/plain": [
       "array([0., 0., 0., 0., 0., 1., 0., 0., 0., 0., 0., 0., 0., 0., 0., 0., 0.,\n",
       "       1., 0., 0., 0., 0., 0., 0., 0., 0., 0., 0., 0., 0., 0., 0., 0., 1.,\n",
       "       0., 0., 0., 0., 0., 0., 0., 0., 0., 0., 1., 0., 0., 0., 0., 0., 0.,\n",
       "       0., 0., 1., 0., 0., 0., 0., 0., 0., 0., 0., 0., 1., 0., 0., 0., 0.,\n",
       "       0., 0., 0., 0., 0., 0., 0., 0., 0., 0., 0., 0., 0., 0., 0., 0., 1.,\n",
       "       0., 0., 0., 0., 0., 0., 0., 0., 0., 0., 0., 0., 0., 0.])"
      ]
     },
     "execution_count": 19,
     "metadata": {},
     "output_type": "execute_result"
    }
   ],
   "source": [
    "from sklearn.preprocessing import OneHotEncoder\n",
    "onehot_encoder=OneHotEncoder()\n",
    "df['Crop Type']=onehot_encoder.fit_transform(df[['Crop Type']]).toarray()\n",
    "df['Crop Type'].values"
   ]
  },
  {
   "cell_type": "code",
   "execution_count": 20,
   "id": "e973cd26",
   "metadata": {
    "execution": {
     "iopub.execute_input": "2023-08-29T17:02:36.379188Z",
     "iopub.status.busy": "2023-08-29T17:02:36.378791Z",
     "iopub.status.idle": "2023-08-29T17:02:36.385345Z",
     "shell.execute_reply": "2023-08-29T17:02:36.384327Z"
    },
    "papermill": {
     "duration": 0.034196,
     "end_time": "2023-08-29T17:02:36.387290",
     "exception": false,
     "start_time": "2023-08-29T17:02:36.353094",
     "status": "completed"
    },
    "tags": []
   },
   "outputs": [
    {
     "data": {
      "text/plain": [
       "dtype('float64')"
      ]
     },
     "execution_count": 20,
     "metadata": {},
     "output_type": "execute_result"
    }
   ],
   "source": [
    "#Now checking data type of column fertilizer name\n",
    "df['Fertilizer Name'].dtype"
   ]
  },
  {
   "cell_type": "code",
   "execution_count": 21,
   "id": "d9b79e87",
   "metadata": {
    "execution": {
     "iopub.execute_input": "2023-08-29T17:02:36.438373Z",
     "iopub.status.busy": "2023-08-29T17:02:36.437201Z",
     "iopub.status.idle": "2023-08-29T17:02:36.451184Z",
     "shell.execute_reply": "2023-08-29T17:02:36.450158Z"
    },
    "papermill": {
     "duration": 0.042134,
     "end_time": "2023-08-29T17:02:36.453561",
     "exception": false,
     "start_time": "2023-08-29T17:02:36.411427",
     "status": "completed"
    },
    "tags": []
   },
   "outputs": [
    {
     "data": {
      "text/html": [
       "<div>\n",
       "<style scoped>\n",
       "    .dataframe tbody tr th:only-of-type {\n",
       "        vertical-align: middle;\n",
       "    }\n",
       "\n",
       "    .dataframe tbody tr th {\n",
       "        vertical-align: top;\n",
       "    }\n",
       "\n",
       "    .dataframe thead th {\n",
       "        text-align: right;\n",
       "    }\n",
       "</style>\n",
       "<table border=\"1\" class=\"dataframe\">\n",
       "  <thead>\n",
       "    <tr style=\"text-align: right;\">\n",
       "      <th></th>\n",
       "      <th>Temparature</th>\n",
       "      <th>Humidity</th>\n",
       "      <th>Moisture</th>\n",
       "      <th>Soil Type</th>\n",
       "      <th>Crop Type</th>\n",
       "      <th>Nitrogen</th>\n",
       "      <th>Potassium</th>\n",
       "      <th>Phosphorous</th>\n",
       "      <th>Fertilizer Name</th>\n",
       "    </tr>\n",
       "  </thead>\n",
       "  <tbody>\n",
       "    <tr>\n",
       "      <th>0</th>\n",
       "      <td>26</td>\n",
       "      <td>52</td>\n",
       "      <td>38</td>\n",
       "      <td>0.0</td>\n",
       "      <td>0.0</td>\n",
       "      <td>37</td>\n",
       "      <td>0</td>\n",
       "      <td>0</td>\n",
       "      <td>0.0</td>\n",
       "    </tr>\n",
       "    <tr>\n",
       "      <th>1</th>\n",
       "      <td>29</td>\n",
       "      <td>52</td>\n",
       "      <td>45</td>\n",
       "      <td>0.0</td>\n",
       "      <td>0.0</td>\n",
       "      <td>12</td>\n",
       "      <td>0</td>\n",
       "      <td>36</td>\n",
       "      <td>0.0</td>\n",
       "    </tr>\n",
       "    <tr>\n",
       "      <th>2</th>\n",
       "      <td>34</td>\n",
       "      <td>65</td>\n",
       "      <td>62</td>\n",
       "      <td>1.0</td>\n",
       "      <td>0.0</td>\n",
       "      <td>7</td>\n",
       "      <td>9</td>\n",
       "      <td>30</td>\n",
       "      <td>0.0</td>\n",
       "    </tr>\n",
       "    <tr>\n",
       "      <th>3</th>\n",
       "      <td>32</td>\n",
       "      <td>62</td>\n",
       "      <td>34</td>\n",
       "      <td>0.0</td>\n",
       "      <td>0.0</td>\n",
       "      <td>22</td>\n",
       "      <td>0</td>\n",
       "      <td>20</td>\n",
       "      <td>0.0</td>\n",
       "    </tr>\n",
       "    <tr>\n",
       "      <th>4</th>\n",
       "      <td>28</td>\n",
       "      <td>54</td>\n",
       "      <td>46</td>\n",
       "      <td>0.0</td>\n",
       "      <td>0.0</td>\n",
       "      <td>35</td>\n",
       "      <td>0</td>\n",
       "      <td>0</td>\n",
       "      <td>0.0</td>\n",
       "    </tr>\n",
       "  </tbody>\n",
       "</table>\n",
       "</div>"
      ],
      "text/plain": [
       "   Temparature  Humidity   Moisture  Soil Type  Crop Type  Nitrogen  \\\n",
       "0           26         52        38        0.0        0.0        37   \n",
       "1           29         52        45        0.0        0.0        12   \n",
       "2           34         65        62        1.0        0.0         7   \n",
       "3           32         62        34        0.0        0.0        22   \n",
       "4           28         54        46        0.0        0.0        35   \n",
       "\n",
       "   Potassium  Phosphorous  Fertilizer Name  \n",
       "0          0            0              0.0  \n",
       "1          0           36              0.0  \n",
       "2          9           30              0.0  \n",
       "3          0           20              0.0  \n",
       "4          0            0              0.0  "
      ]
     },
     "execution_count": 21,
     "metadata": {},
     "output_type": "execute_result"
    }
   ],
   "source": [
    "#To display first 5 rows of new data\n",
    "df.head(5)"
   ]
  },
  {
   "cell_type": "code",
   "execution_count": 22,
   "id": "f490d715",
   "metadata": {
    "execution": {
     "iopub.execute_input": "2023-08-29T17:02:36.507014Z",
     "iopub.status.busy": "2023-08-29T17:02:36.505913Z",
     "iopub.status.idle": "2023-08-29T17:02:36.524967Z",
     "shell.execute_reply": "2023-08-29T17:02:36.523901Z"
    },
    "papermill": {
     "duration": 0.047845,
     "end_time": "2023-08-29T17:02:36.527008",
     "exception": false,
     "start_time": "2023-08-29T17:02:36.479163",
     "status": "completed"
    },
    "tags": []
   },
   "outputs": [
    {
     "data": {
      "text/html": [
       "<div>\n",
       "<style scoped>\n",
       "    .dataframe tbody tr th:only-of-type {\n",
       "        vertical-align: middle;\n",
       "    }\n",
       "\n",
       "    .dataframe tbody tr th {\n",
       "        vertical-align: top;\n",
       "    }\n",
       "\n",
       "    .dataframe thead th {\n",
       "        text-align: right;\n",
       "    }\n",
       "</style>\n",
       "<table border=\"1\" class=\"dataframe\">\n",
       "  <thead>\n",
       "    <tr style=\"text-align: right;\">\n",
       "      <th></th>\n",
       "      <th>Temparature</th>\n",
       "      <th>Humidity</th>\n",
       "      <th>Moisture</th>\n",
       "      <th>Soil Type</th>\n",
       "      <th>Crop Type</th>\n",
       "      <th>Nitrogen</th>\n",
       "      <th>Potassium</th>\n",
       "      <th>Phosphorous</th>\n",
       "      <th>Fertilizer Name</th>\n",
       "    </tr>\n",
       "  </thead>\n",
       "  <tbody>\n",
       "    <tr>\n",
       "      <th>Temparature</th>\n",
       "      <td>1.000000</td>\n",
       "      <td>0.973164</td>\n",
       "      <td>0.091222</td>\n",
       "      <td>-0.002751</td>\n",
       "      <td>-0.011080</td>\n",
       "      <td>-0.033771</td>\n",
       "      <td>-0.023424</td>\n",
       "      <td>0.207545</td>\n",
       "      <td>-0.045006</td>\n",
       "    </tr>\n",
       "    <tr>\n",
       "      <th>Humidity</th>\n",
       "      <td>0.973164</td>\n",
       "      <td>1.000000</td>\n",
       "      <td>0.091342</td>\n",
       "      <td>-0.017121</td>\n",
       "      <td>-0.007192</td>\n",
       "      <td>-0.060646</td>\n",
       "      <td>-0.003833</td>\n",
       "      <td>0.204044</td>\n",
       "      <td>-0.047881</td>\n",
       "    </tr>\n",
       "    <tr>\n",
       "      <th>Moisture</th>\n",
       "      <td>0.091222</td>\n",
       "      <td>0.091342</td>\n",
       "      <td>1.000000</td>\n",
       "      <td>0.065288</td>\n",
       "      <td>-0.036096</td>\n",
       "      <td>-0.095945</td>\n",
       "      <td>0.027727</td>\n",
       "      <td>0.009276</td>\n",
       "      <td>-0.095831</td>\n",
       "    </tr>\n",
       "    <tr>\n",
       "      <th>Soil Type</th>\n",
       "      <td>-0.002751</td>\n",
       "      <td>-0.017121</td>\n",
       "      <td>0.065288</td>\n",
       "      <td>1.000000</td>\n",
       "      <td>-0.134427</td>\n",
       "      <td>0.130520</td>\n",
       "      <td>-0.116573</td>\n",
       "      <td>-0.165494</td>\n",
       "      <td>-0.134427</td>\n",
       "    </tr>\n",
       "    <tr>\n",
       "      <th>Crop Type</th>\n",
       "      <td>-0.011080</td>\n",
       "      <td>-0.007192</td>\n",
       "      <td>-0.036096</td>\n",
       "      <td>-0.134427</td>\n",
       "      <td>1.000000</td>\n",
       "      <td>-0.151475</td>\n",
       "      <td>0.090681</td>\n",
       "      <td>0.152105</td>\n",
       "      <td>0.077640</td>\n",
       "    </tr>\n",
       "    <tr>\n",
       "      <th>Nitrogen</th>\n",
       "      <td>-0.033771</td>\n",
       "      <td>-0.060646</td>\n",
       "      <td>-0.095945</td>\n",
       "      <td>0.130520</td>\n",
       "      <td>-0.151475</td>\n",
       "      <td>1.000000</td>\n",
       "      <td>-0.500087</td>\n",
       "      <td>-0.686971</td>\n",
       "      <td>-0.270980</td>\n",
       "    </tr>\n",
       "    <tr>\n",
       "      <th>Potassium</th>\n",
       "      <td>-0.023424</td>\n",
       "      <td>-0.003833</td>\n",
       "      <td>0.027727</td>\n",
       "      <td>-0.116573</td>\n",
       "      <td>0.090681</td>\n",
       "      <td>-0.500087</td>\n",
       "      <td>1.000000</td>\n",
       "      <td>0.089192</td>\n",
       "      <td>0.683274</td>\n",
       "    </tr>\n",
       "    <tr>\n",
       "      <th>Phosphorous</th>\n",
       "      <td>0.207545</td>\n",
       "      <td>0.204044</td>\n",
       "      <td>0.009276</td>\n",
       "      <td>-0.165494</td>\n",
       "      <td>0.152105</td>\n",
       "      <td>-0.686971</td>\n",
       "      <td>0.089192</td>\n",
       "      <td>1.000000</td>\n",
       "      <td>-0.018345</td>\n",
       "    </tr>\n",
       "    <tr>\n",
       "      <th>Fertilizer Name</th>\n",
       "      <td>-0.045006</td>\n",
       "      <td>-0.047881</td>\n",
       "      <td>-0.095831</td>\n",
       "      <td>-0.134427</td>\n",
       "      <td>0.077640</td>\n",
       "      <td>-0.270980</td>\n",
       "      <td>0.683274</td>\n",
       "      <td>-0.018345</td>\n",
       "      <td>1.000000</td>\n",
       "    </tr>\n",
       "  </tbody>\n",
       "</table>\n",
       "</div>"
      ],
      "text/plain": [
       "                 Temparature  Humidity   Moisture  Soil Type  Crop Type  \\\n",
       "Temparature         1.000000   0.973164  0.091222  -0.002751  -0.011080   \n",
       "Humidity            0.973164   1.000000  0.091342  -0.017121  -0.007192   \n",
       "Moisture            0.091222   0.091342  1.000000   0.065288  -0.036096   \n",
       "Soil Type          -0.002751  -0.017121  0.065288   1.000000  -0.134427   \n",
       "Crop Type          -0.011080  -0.007192 -0.036096  -0.134427   1.000000   \n",
       "Nitrogen           -0.033771  -0.060646 -0.095945   0.130520  -0.151475   \n",
       "Potassium          -0.023424  -0.003833  0.027727  -0.116573   0.090681   \n",
       "Phosphorous         0.207545   0.204044  0.009276  -0.165494   0.152105   \n",
       "Fertilizer Name    -0.045006  -0.047881 -0.095831  -0.134427   0.077640   \n",
       "\n",
       "                 Nitrogen  Potassium  Phosphorous  Fertilizer Name  \n",
       "Temparature     -0.033771  -0.023424     0.207545        -0.045006  \n",
       "Humidity        -0.060646  -0.003833     0.204044        -0.047881  \n",
       "Moisture        -0.095945   0.027727     0.009276        -0.095831  \n",
       "Soil Type        0.130520  -0.116573    -0.165494        -0.134427  \n",
       "Crop Type       -0.151475   0.090681     0.152105         0.077640  \n",
       "Nitrogen         1.000000  -0.500087    -0.686971        -0.270980  \n",
       "Potassium       -0.500087   1.000000     0.089192         0.683274  \n",
       "Phosphorous     -0.686971   0.089192     1.000000        -0.018345  \n",
       "Fertilizer Name -0.270980   0.683274    -0.018345         1.000000  "
      ]
     },
     "execution_count": 22,
     "metadata": {},
     "output_type": "execute_result"
    }
   ],
   "source": [
    "#Finding the correlation \n",
    "#corr() function tells us how one column can influence the other\n",
    "data1=df.iloc[:,0:9].corr()\n",
    "data1"
   ]
  },
  {
   "cell_type": "code",
   "execution_count": 23,
   "id": "a120adc6",
   "metadata": {
    "execution": {
     "iopub.execute_input": "2023-08-29T17:02:36.579293Z",
     "iopub.status.busy": "2023-08-29T17:02:36.578407Z",
     "iopub.status.idle": "2023-08-29T17:02:37.232288Z",
     "shell.execute_reply": "2023-08-29T17:02:37.231358Z"
    },
    "papermill": {
     "duration": 0.683059,
     "end_time": "2023-08-29T17:02:37.235076",
     "exception": false,
     "start_time": "2023-08-29T17:02:36.552017",
     "status": "completed"
    },
    "tags": []
   },
   "outputs": [
    {
     "data": {
      "text/plain": [
       "<Axes: >"
      ]
     },
     "execution_count": 23,
     "metadata": {},
     "output_type": "execute_result"
    },
    {
     "data": {
      "image/png": "[encoded data removed]",
      "text/plain": [
       "<Figure size 640x480 with 2 Axes>"
      ]
     },
     "metadata": {},
     "output_type": "display_data"
    }
   ],
   "source": [
    "#Visualize the correlation of above data using heatmap\n",
    "sns.heatmap(data1,annot=True,fmt='.0%')"
   ]
  },
  {
   "cell_type": "markdown",
   "id": "88a4c6c0",
   "metadata": {
    "papermill": {
     "duration": 0.027273,
     "end_time": "2023-08-29T17:02:37.290540",
     "exception": false,
     "start_time": "2023-08-29T17:02:37.263267",
     "status": "completed"
    },
    "tags": []
   },
   "source": [
    "# **Machine Learning**"
   ]
  },
  {
   "cell_type": "markdown",
   "id": "4d7bcee4",
   "metadata": {
    "papermill": {
     "duration": 0.026732,
     "end_time": "2023-08-29T17:02:37.344123",
     "exception": false,
     "start_time": "2023-08-29T17:02:37.317391",
     "status": "completed"
    },
    "tags": []
   },
   "source": [
    "**Model 1:- Decision Tree Classifier**"
   ]
  },
  {
   "cell_type": "code",
   "execution_count": 24,
   "id": "432a49ff",
   "metadata": {
    "execution": {
     "iopub.execute_input": "2023-08-29T17:02:37.401264Z",
     "iopub.status.busy": "2023-08-29T17:02:37.400863Z",
     "iopub.status.idle": "2023-08-29T17:02:37.407072Z",
     "shell.execute_reply": "2023-08-29T17:02:37.405938Z"
    },
    "papermill": {
     "duration": 0.037201,
     "end_time": "2023-08-29T17:02:37.409145",
     "exception": false,
     "start_time": "2023-08-29T17:02:37.371944",
     "status": "completed"
    },
    "tags": []
   },
   "outputs": [],
   "source": [
    "#Dividing data into X and Y(converting into numpy)\n",
    "X=df.iloc[:,0:8].values  #Independent dataset \n",
    "Y=df.iloc[:,8].values     #Dependent dataset "
   ]
  },
  {
   "cell_type": "code",
   "execution_count": 25,
   "id": "58f19e5a",
   "metadata": {
    "execution": {
     "iopub.execute_input": "2023-08-29T17:02:37.465630Z",
     "iopub.status.busy": "2023-08-29T17:02:37.465266Z",
     "iopub.status.idle": "2023-08-29T17:02:37.475874Z",
     "shell.execute_reply": "2023-08-29T17:02:37.474753Z"
    },
    "papermill": {
     "duration": 0.04229,
     "end_time": "2023-08-29T17:02:37.479023",
     "exception": false,
     "start_time": "2023-08-29T17:02:37.436733",
     "status": "completed"
    },
    "tags": []
   },
   "outputs": [
    {
     "name": "stdout",
     "output_type": "stream",
     "text": [
      "[[26. 52. 38.  0.  0. 37.  0.  0.]\n",
      " [29. 52. 45.  0.  0. 12.  0. 36.]\n",
      " [34. 65. 62.  1.  0.  7.  9. 30.]\n",
      " [32. 62. 34.  0.  0. 22.  0. 20.]\n",
      " [28. 54. 46.  0.  0. 35.  0.  0.]\n",
      " [26. 52. 35.  0.  1. 12. 10. 13.]\n",
      " [25. 50. 64.  0.  0.  9.  0. 10.]\n",
      " [33. 64. 50.  0.  0. 41.  0.  0.]\n",
      " [30. 60. 42.  0.  0. 21.  0. 18.]\n",
      " [29. 58. 33.  1.  0.  9.  7. 30.]\n",
      " [27. 54. 28.  0.  0. 13.  0. 40.]\n",
      " [31. 62. 48.  0.  0. 14. 15. 12.]\n",
      " [25. 50. 65.  0.  0. 36.  0.  0.]\n",
      " [32. 62. 41.  0.  0. 24.  0. 22.]\n",
      " [26. 52. 31.  0.  0. 14.  0. 41.]\n",
      " [31. 62. 49.  1.  0. 10. 13. 14.]\n",
      " [33. 64. 34.  0.  0. 38.  0.  0.]\n",
      " [25. 50. 39.  0.  1. 21.  0. 19.]\n",
      " [28. 54. 65.  1.  0. 39.  0.  0.]\n",
      " [29. 58. 52.  0.  0. 13.  0. 36.]\n",
      " [30. 60. 44.  0.  0. 10.  0.  9.]\n",
      " [34. 65. 53.  0.  0. 12. 14. 12.]\n",
      " [35. 68. 33.  0.  0. 11.  0. 37.]\n",
      " [28. 54. 37.  1.  0. 36.  0.  0.]\n",
      " [33. 64. 39.  0.  0. 13.  0. 10.]\n",
      " [26. 52. 44.  0.  0. 23.  0. 20.]\n",
      " [30. 60. 63.  0.  0.  9.  9. 29.]\n",
      " [32. 62. 30.  0.  0. 38.  0.  0.]\n",
      " [37. 70. 32.  1.  0. 12.  0. 39.]\n",
      " [26. 52. 36.  0.  0. 14.  0. 13.]\n",
      " [29. 58. 40.  0.  0. 24.  0. 23.]\n",
      " [30. 60. 27.  0.  0. 12.  0. 40.]\n",
      " [34. 65. 38.  0.  0. 39.  0.  0.]\n",
      " [36. 68. 38.  0.  1.  7.  9. 30.]\n",
      " [26. 52. 48.  0.  0. 23.  0. 19.]\n",
      " [28. 54. 35.  1.  0. 41.  0.  0.]\n",
      " [30. 60. 61.  0.  0.  8. 10. 31.]\n",
      " [37. 70. 37.  0.  0. 12.  0. 41.]\n",
      " [25. 50. 26.  0.  0. 15. 14. 11.]\n",
      " [29. 58. 34.  0.  0. 15.  0. 37.]\n",
      " [27. 54. 30.  0.  0. 13.  0. 13.]\n",
      " [30. 60. 58.  0.  0. 10.  7. 32.]\n",
      " [32. 62. 34.  0.  0. 22.  0. 24.]\n",
      " [34. 65. 60.  1.  0. 35.  0.  0.]\n",
      " [35. 67. 42.  0.  1. 10.  0. 35.]\n",
      " [38. 70. 48.  0.  0.  8.  8. 28.]\n",
      " [26. 52. 32.  1.  0. 12.  0.  8.]\n",
      " [29. 58. 43.  0.  0. 24.  0. 18.]\n",
      " [30. 60. 29.  0.  0. 41.  0.  0.]\n",
      " [33. 64. 51.  0.  0.  5.  9. 29.]\n",
      " [34. 65. 31.  0.  0. 23.  0. 21.]\n",
      " [36. 68. 33.  1.  0. 13.  0. 14.]\n",
      " [28. 54. 38.  0.  0. 40.  0.  0.]\n",
      " [30. 60. 47.  0.  1. 12.  0. 42.]\n",
      " [31. 62. 63.  0.  0. 11. 12. 15.]\n",
      " [27. 53. 43.  1.  0. 23.  0. 24.]\n",
      " [34. 65. 54.  0.  0. 38.  0.  0.]\n",
      " [29. 58. 37.  0.  0.  8.  0. 15.]\n",
      " [25. 50. 56.  0.  0. 11. 13. 15.]\n",
      " [32. 62. 34.  0.  0. 15.  0. 37.]\n",
      " [28. 54. 41.  0.  0. 36.  0.  0.]\n",
      " [30. 60. 49.  0.  0. 13.  0.  9.]\n",
      " [34. 65. 64.  1.  0. 24.  0. 20.]\n",
      " [28. 54. 47.  0.  1.  5. 18. 15.]\n",
      " [27. 53. 35.  1.  0. 37.  0.  0.]\n",
      " [36. 68. 62.  0.  0. 15.  0. 40.]\n",
      " [34. 65. 57.  1.  0.  9.  0. 13.]\n",
      " [29. 58. 55.  0.  0.  8.  8. 33.]\n",
      " [25. 50. 40.  0.  0.  6. 19. 16.]\n",
      " [30. 60. 38.  0.  0. 10.  0. 14.]\n",
      " [26. 52. 39.  0.  0. 21.  0. 23.]\n",
      " [31. 62. 32.  0.  0. 39.  0.  0.]\n",
      " [34. 65. 48.  0.  0. 23.  0. 19.]\n",
      " [27. 53. 34.  1.  0. 42.  0.  0.]\n",
      " [33. 64. 31.  0.  0. 13.  0. 39.]\n",
      " [29. 58. 42.  0.  0.  9. 10. 22.]\n",
      " [30. 60. 47.  0.  0. 22.  0. 21.]\n",
      " [27. 53. 59.  0.  0. 10.  0. 15.]\n",
      " [26. 52. 36.  0.  0.  7. 16. 20.]\n",
      " [34. 65. 63.  0.  0. 14.  0. 38.]\n",
      " [28. 54. 43.  0.  0. 10.  8. 29.]\n",
      " [30. 60. 40.  0.  0. 41.  0.  0.]\n",
      " [29. 58. 65.  1.  0. 14.  0. 35.]\n",
      " [26. 52. 59.  0.  0. 11.  0.  9.]\n",
      " [31. 62. 44.  0.  1. 21.  0. 28.]\n",
      " [35. 67. 28.  0.  0.  8.  7. 31.]\n",
      " [29. 58. 30.  0.  0. 13. 17. 16.]\n",
      " [27. 53. 30.  1.  0. 35.  0.  0.]\n",
      " [36. 68. 50.  0.  0. 12. 18. 19.]\n",
      " [29. 58. 61.  0.  0. 11.  0. 38.]\n",
      " [30. 60. 26.  1.  0.  8.  9. 30.]\n",
      " [34. 65. 45.  0.  0.  6. 19. 21.]\n",
      " [36. 68. 41.  0.  0. 41.  0.  0.]\n",
      " [28. 54. 25.  0.  0.  9. 10. 30.]\n",
      " [25. 50. 32.  0.  0. 24.  0. 19.]\n",
      " [30. 60. 27.  0.  0.  4. 17. 17.]\n",
      " [38. 72. 51.  0.  0. 39.  0.  0.]\n",
      " [36. 60. 43.  0.  0. 15.  0. 41.]\n",
      " [29. 58. 57.  1.  0. 12.  0. 10.]]\n"
     ]
    }
   ],
   "source": [
    "print(X)"
   ]
  },
  {
   "cell_type": "code",
   "execution_count": 26,
   "id": "dba11c4e",
   "metadata": {
    "execution": {
     "iopub.execute_input": "2023-08-29T17:02:37.534356Z",
     "iopub.status.busy": "2023-08-29T17:02:37.533972Z",
     "iopub.status.idle": "2023-08-29T17:02:37.541103Z",
     "shell.execute_reply": "2023-08-29T17:02:37.539543Z"
    },
    "papermill": {
     "duration": 0.037257,
     "end_time": "2023-08-29T17:02:37.543058",
     "exception": false,
     "start_time": "2023-08-29T17:02:37.505801",
     "status": "completed"
    },
    "tags": []
   },
   "outputs": [
    {
     "name": "stdout",
     "output_type": "stream",
     "text": [
      "[0. 0. 0. 0. 0. 0. 0. 0. 0. 0. 0. 0. 0. 0. 0. 0. 0. 0. 0. 0. 0. 0. 0. 0.\n",
      " 0. 0. 0. 0. 0. 0. 0. 0. 0. 0. 0. 0. 0. 0. 0. 0. 0. 0. 0. 0. 0. 0. 0. 0.\n",
      " 0. 0. 0. 0. 0. 0. 0. 0. 0. 0. 0. 0. 0. 0. 0. 1. 0. 0. 0. 0. 1. 0. 0. 0.\n",
      " 0. 0. 0. 0. 0. 0. 1. 0. 0. 0. 0. 0. 0. 0. 1. 0. 1. 0. 0. 1. 0. 0. 0. 1.\n",
      " 0. 0. 0.]\n"
     ]
    }
   ],
   "source": [
    "print(Y)"
   ]
  },
  {
   "cell_type": "code",
   "execution_count": 27,
   "id": "25880032",
   "metadata": {
    "execution": {
     "iopub.execute_input": "2023-08-29T17:02:37.598992Z",
     "iopub.status.busy": "2023-08-29T17:02:37.597825Z",
     "iopub.status.idle": "2023-08-29T17:02:37.705915Z",
     "shell.execute_reply": "2023-08-29T17:02:37.704797Z"
    },
    "papermill": {
     "duration": 0.138558,
     "end_time": "2023-08-29T17:02:37.708523",
     "exception": false,
     "start_time": "2023-08-29T17:02:37.569965",
     "status": "completed"
    },
    "tags": []
   },
   "outputs": [],
   "source": [
    "#Splitting dataset into 80% training and 20% testing\n",
    "from sklearn.model_selection import train_test_split\n",
    "X_train,X_test,Y_train,Y_test=train_test_split(X,Y,test_size=0.20,random_state=0)"
   ]
  },
  {
   "cell_type": "code",
   "execution_count": 28,
   "id": "9de40a36",
   "metadata": {
    "execution": {
     "iopub.execute_input": "2023-08-29T17:02:37.763859Z",
     "iopub.status.busy": "2023-08-29T17:02:37.763448Z",
     "iopub.status.idle": "2023-08-29T17:02:37.769812Z",
     "shell.execute_reply": "2023-08-29T17:02:37.769081Z"
    },
    "papermill": {
     "duration": 0.03656,
     "end_time": "2023-08-29T17:02:37.771840",
     "exception": false,
     "start_time": "2023-08-29T17:02:37.735280",
     "status": "completed"
    },
    "tags": []
   },
   "outputs": [],
   "source": [
    "from sklearn.preprocessing import StandardScaler\n",
    "sc = StandardScaler()\n",
    "X_train = sc.fit_transform(X_train)\n",
    "X_test = sc.transform(X_test)"
   ]
  },
  {
   "cell_type": "code",
   "execution_count": 29,
   "id": "47365386",
   "metadata": {
    "execution": {
     "iopub.execute_input": "2023-08-29T17:02:37.828078Z",
     "iopub.status.busy": "2023-08-29T17:02:37.827679Z",
     "iopub.status.idle": "2023-08-29T17:02:38.092470Z",
     "shell.execute_reply": "2023-08-29T17:02:38.091357Z"
    },
    "papermill": {
     "duration": 0.296298,
     "end_time": "2023-08-29T17:02:38.095024",
     "exception": false,
     "start_time": "2023-08-29T17:02:37.798726",
     "status": "completed"
    },
    "tags": []
   },
   "outputs": [
    {
     "data": {
      "text/html": [
       "<style>#sk-container-id-1 {\n",
       "  /* Definition of color scheme common for light and dark mode */\n",
       "  --sklearn-color-text: black;\n",
       "  --sklearn-color-line: gray;\n",
       "  /* Definition of color scheme for unfitted estimators */\n",
       "  --sklearn-color-unfitted-level-0: #fff5e6;\n",
       "  --sklearn-color-unfitted-level-1: #f6e4d2;\n",
       "  --sklearn-color-unfitted-level-2: #ffe0b3;\n",
       "  --sklearn-color-unfitted-level-3: chocolate;\n",
       "  /* Definition of color scheme for fitted estimators */\n",
       "  --sklearn-color-fitted-level-0: #f0f8ff;\n",
       "  --sklearn-color-fitted-level-1: #d4ebff;\n",
       "  --sklearn-color-fitted-level-2: #b3dbfd;\n",
       "  --sklearn-color-fitted-level-3: cornflowerblue;\n",
       "\n",
       "  /* Specific color for light theme */\n",
       "  --sklearn-color-text-on-default-background: var(--sg-text-color, var(--theme-code-foreground, var(--jp-content-font-color1, black)));\n",
       "  --sklearn-color-background: var(--sg-background-color, var(--theme-background, var(--jp-layout-color0, white)));\n",
       "  --sklearn-color-border-box: var(--sg-text-color, var(--theme-code-foreground, var(--jp-content-font-color1, black)));\n",
       "  --sklearn-color-icon: #696969;\n",
       "\n",
       "  @media (prefers-color-scheme: dark) {\n",
       "    /* Redefinition of color scheme for dark theme */\n",
       "    --sklearn-color-text-on-default-background: var(--sg-text-color, var(--theme-code-foreground, var(--jp-content-font-color1, white)));\n",
       "    --sklearn-color-background: var(--sg-background-color, var(--theme-background, var(--jp-layout-color0, #111)));\n",
       "    --sklearn-color-border-box: var(--sg-text-color, var(--theme-code-foreground, var(--jp-content-font-color1, white)));\n",
       "    --sklearn-color-icon: #878787;\n",
       "  }\n",
       "}\n",
       "\n",
       "#sk-container-id-1 {\n",
       "  color: var(--sklearn-color-text);\n",
       "}\n",
       "\n",
       "#sk-container-id-1 pre {\n",
       "  padding: 0;\n",
       "}\n",
       "\n",
       "#sk-container-id-1 input.sk-hidden--visually {\n",
       "  border: 0;\n",
       "  clip: rect(1px 1px 1px 1px);\n",
       "  clip: rect(1px, 1px, 1px, 1px);\n",
       "  height: 1px;\n",
       "  margin: -1px;\n",
       "  overflow: hidden;\n",
       "  padding: 0;\n",
       "  position: absolute;\n",
       "  width: 1px;\n",
       "}\n",
       "\n",
       "#sk-container-id-1 div.sk-dashed-wrapped {\n",
       "  border: 1px dashed var(--sklearn-color-line);\n",
       "  margin: 0 0.4em 0.5em 0.4em;\n",
       "  box-sizing: border-box;\n",
       "  padding-bottom: 0.4em;\n",
       "  background-color: var(--sklearn-color-background);\n",
       "}\n",
       "\n",
       "#sk-container-id-1 div.sk-container {\n",
       "  /* jupyter's `normalize.less` sets `[hidden] { display: none; }`\n",
       "     but bootstrap.min.css set `[hidden] { display: none !important; }`\n",
       "     so we also need the `!important` here to be able to override the\n",
       "     default hidden behavior on the sphinx rendered scikit-learn.org.\n",
       "     See: https://github.com/scikit-learn/scikit-learn/issues/21755 */\n",
       "  display: inline-block !important;\n",
       "  position: relative;\n",
       "}\n",
       "\n",
       "#sk-container-id-1 div.sk-text-repr-fallback {\n",
       "  display: none;\n",
       "}\n",
       "\n",
       "div.sk-parallel-item,\n",
       "div.sk-serial,\n",
       "div.sk-item {\n",
       "  /* draw centered vertical line to link estimators */\n",
       "  background-image: linear-gradient(var(--sklearn-color-text-on-default-background), var(--sklearn-color-text-on-default-background));\n",
       "  background-size: 2px 100%;\n",
       "  background-repeat: no-repeat;\n",
       "  background-position: center center;\n",
       "}\n",
       "\n",
       "/* Parallel-specific style estimator block */\n",
       "\n",
       "#sk-container-id-1 div.sk-parallel-item::after {\n",
       "  content: \"\";\n",
       "  width: 100%;\n",
       "  border-bottom: 2px solid var(--sklearn-color-text-on-default-background);\n",
       "  flex-grow: 1;\n",
       "}\n",
       "\n",
       "#sk-container-id-1 div.sk-parallel {\n",
       "  display: flex;\n",
       "  align-items: stretch;\n",
       "  justify-content: center;\n",
       "  background-color: var(--sklearn-color-background);\n",
       "  position: relative;\n",
       "}\n",
       "\n",
       "#sk-container-id-1 div.sk-parallel-item {\n",
       "  display: flex;\n",
       "  flex-direction: column;\n",
       "}\n",
       "\n",
       "#sk-container-id-1 div.sk-parallel-item:first-child::after {\n",
       "  align-self: flex-end;\n",
       "  width: 50%;\n",
       "}\n",
       "\n",
       "#sk-container-id-1 div.sk-parallel-item:last-child::after {\n",
       "  align-self: flex-start;\n",
       "  width: 50%;\n",
       "}\n",
       "\n",
       "#sk-container-id-1 div.sk-parallel-item:only-child::after {\n",
       "  width: 0;\n",
       "}\n",
       "\n",
       "/* Serial-specific style estimator block */\n",
       "\n",
       "#sk-container-id-1 div.sk-serial {\n",
       "  display: flex;\n",
       "  flex-direction: column;\n",
       "  align-items: center;\n",
       "  background-color: var(--sklearn-color-background);\n",
       "  padding-right: 1em;\n",
       "  padding-left: 1em;\n",
       "}\n",
       "\n",
       "\n",
       "/* Toggleable style: style used for estimator/Pipeline/ColumnTransformer box that is\n",
       "clickable and can be expanded/collapsed.\n",
       "- Pipeline and ColumnTransformer use this feature and define the default style\n",
       "- Estimators will overwrite some part of the style using the `sk-estimator` class\n",
       "*/\n",
       "\n",
       "/* Pipeline and ColumnTransformer style (default) */\n",
       "\n",
       "#sk-container-id-1 div.sk-toggleable {\n",
       "  /* Default theme specific background. It is overwritten whether we have a\n",
       "  specific estimator or a Pipeline/ColumnTransformer */\n",
       "  background-color: var(--sklearn-color-background);\n",
       "}\n",
       "\n",
       "/* Toggleable label */\n",
       "#sk-container-id-1 label.sk-toggleable__label {\n",
       "  cursor: pointer;\n",
       "  display: block;\n",
       "  width: 100%;\n",
       "  margin-bottom: 0;\n",
       "  padding: 0.5em;\n",
       "  box-sizing: border-box;\n",
       "  text-align: center;\n",
       "}\n",
       "\n",
       "#sk-container-id-1 label.sk-toggleable__label-arrow:before {\n",
       "  /* Arrow on the left of the label */\n",
       "  content: \"▸\";\n",
       "  float: left;\n",
       "  margin-right: 0.25em;\n",
       "  color: var(--sklearn-color-icon);\n",
       "}\n",
       "\n",
       "#sk-container-id-1 label.sk-toggleable__label-arrow:hover:before {\n",
       "  color: var(--sklearn-color-text);\n",
       "}\n",
       "\n",
       "/* Toggleable content - dropdown */\n",
       "\n",
       "#sk-container-id-1 div.sk-toggleable__content {\n",
       "  max-height: 0;\n",
       "  max-width: 0;\n",
       "  overflow: hidden;\n",
       "  text-align: left;\n",
       "  /* unfitted */\n",
       "  background-color: var(--sklearn-color-unfitted-level-0);\n",
       "}\n",
       "\n",
       "#sk-container-id-1 div.sk-toggleable__content.fitted {\n",
       "  /* fitted */\n",
       "  background-color: var(--sklearn-color-fitted-level-0);\n",
       "}\n",
       "\n",
       "#sk-container-id-1 div.sk-toggleable__content pre {\n",
       "  margin: 0.2em;\n",
       "  border-radius: 0.25em;\n",
       "  color: var(--sklearn-color-text);\n",
       "  /* unfitted */\n",
       "  background-color: var(--sklearn-color-unfitted-level-0);\n",
       "}\n",
       "\n",
       "#sk-container-id-1 div.sk-toggleable__content.fitted pre {\n",
       "  /* unfitted */\n",
       "  background-color: var(--sklearn-color-fitted-level-0);\n",
       "}\n",
       "\n",
       "#sk-container-id-1 input.sk-toggleable__control:checked~div.sk-toggleable__content {\n",
       "  /* Expand drop-down */\n",
       "  max-height: 200px;\n",
       "  max-width: 100%;\n",
       "  overflow: auto;\n",
       "}\n",
       "\n",
       "#sk-container-id-1 input.sk-toggleable__control:checked~label.sk-toggleable__label-arrow:before {\n",
       "  content: \"▾\";\n",
       "}\n",
       "\n",
       "/* Pipeline/ColumnTransformer-specific style */\n",
       "\n",
       "#sk-container-id-1 div.sk-label input.sk-toggleable__control:checked~label.sk-toggleable__label {\n",
       "  color: var(--sklearn-color-text);\n",
       "  background-color: var(--sklearn-color-unfitted-level-2);\n",
       "}\n",
       "\n",
       "#sk-container-id-1 div.sk-label.fitted input.sk-toggleable__control:checked~label.sk-toggleable__label {\n",
       "  background-color: var(--sklearn-color-fitted-level-2);\n",
       "}\n",
       "\n",
       "/* Estimator-specific style */\n",
       "\n",
       "/* Colorize estimator box */\n",
       "#sk-container-id-1 div.sk-estimator input.sk-toggleable__control:checked~label.sk-toggleable__label {\n",
       "  /* unfitted */\n",
       "  background-color: var(--sklearn-color-unfitted-level-2);\n",
       "}\n",
       "\n",
       "#sk-container-id-1 div.sk-estimator.fitted input.sk-toggleable__control:checked~label.sk-toggleable__label {\n",
       "  /* fitted */\n",
       "  background-color: var(--sklearn-color-fitted-level-2);\n",
       "}\n",
       "\n",
       "#sk-container-id-1 div.sk-label label.sk-toggleable__label,\n",
       "#sk-container-id-1 div.sk-label label {\n",
       "  /* The background is the default theme color */\n",
       "  color: var(--sklearn-color-text-on-default-background);\n",
       "}\n",
       "\n",
       "/* On hover, darken the color of the background */\n",
       "#sk-container-id-1 div.sk-label:hover label.sk-toggleable__label {\n",
       "  color: var(--sklearn-color-text);\n",
       "  background-color: var(--sklearn-color-unfitted-level-2);\n",
       "}\n",
       "\n",
       "/* Label box, darken color on hover, fitted */\n",
       "#sk-container-id-1 div.sk-label.fitted:hover label.sk-toggleable__label.fitted {\n",
       "  color: var(--sklearn-color-text);\n",
       "  background-color: var(--sklearn-color-fitted-level-2);\n",
       "}\n",
       "\n",
       "/* Estimator label */\n",
       "\n",
       "#sk-container-id-1 div.sk-label label {\n",
       "  font-family: monospace;\n",
       "  font-weight: bold;\n",
       "  display: inline-block;\n",
       "  line-height: 1.2em;\n",
       "}\n",
       "\n",
       "#sk-container-id-1 div.sk-label-container {\n",
       "  text-align: center;\n",
       "}\n",
       "\n",
       "/* Estimator-specific */\n",
       "#sk-container-id-1 div.sk-estimator {\n",
       "  font-family: monospace;\n",
       "  border: 1px dotted var(--sklearn-color-border-box);\n",
       "  border-radius: 0.25em;\n",
       "  box-sizing: border-box;\n",
       "  margin-bottom: 0.5em;\n",
       "  /* unfitted */\n",
       "  background-color: var(--sklearn-color-unfitted-level-0);\n",
       "}\n",
       "\n",
       "#sk-container-id-1 div.sk-estimator.fitted {\n",
       "  /* fitted */\n",
       "  background-color: var(--sklearn-color-fitted-level-0);\n",
       "}\n",
       "\n",
       "/* on hover */\n",
       "#sk-container-id-1 div.sk-estimator:hover {\n",
       "  /* unfitted */\n",
       "  background-color: var(--sklearn-color-unfitted-level-2);\n",
       "}\n",
       "\n",
       "#sk-container-id-1 div.sk-estimator.fitted:hover {\n",
       "  /* fitted */\n",
       "  background-color: var(--sklearn-color-fitted-level-2);\n",
       "}\n",
       "\n",
       "/* Specification for estimator info (e.g. \"i\" and \"?\") */\n",
       "\n",
       "/* Common style for \"i\" and \"?\" */\n",
       "\n",
       ".sk-estimator-doc-link,\n",
       "a:link.sk-estimator-doc-link,\n",
       "a:visited.sk-estimator-doc-link {\n",
       "  float: right;\n",
       "  font-size: smaller;\n",
       "  line-height: 1em;\n",
       "  font-family: monospace;\n",
       "  background-color: var(--sklearn-color-background);\n",
       "  border-radius: 1em;\n",
       "  height: 1em;\n",
       "  width: 1em;\n",
       "  text-decoration: none !important;\n",
       "  margin-left: 1ex;\n",
       "  /* unfitted */\n",
       "  border: var(--sklearn-color-unfitted-level-1) 1pt solid;\n",
       "  color: var(--sklearn-color-unfitted-level-1);\n",
       "}\n",
       "\n",
       ".sk-estimator-doc-link.fitted,\n",
       "a:link.sk-estimator-doc-link.fitted,\n",
       "a:visited.sk-estimator-doc-link.fitted {\n",
       "  /* fitted */\n",
       "  border: var(--sklearn-color-fitted-level-1) 1pt solid;\n",
       "  color: var(--sklearn-color-fitted-level-1);\n",
       "}\n",
       "\n",
       "/* On hover */\n",
       "div.sk-estimator:hover .sk-estimator-doc-link:hover,\n",
       ".sk-estimator-doc-link:hover,\n",
       "div.sk-label-container:hover .sk-estimator-doc-link:hover,\n",
       ".sk-estimator-doc-link:hover {\n",
       "  /* unfitted */\n",
       "  background-color: var(--sklearn-color-unfitted-level-3);\n",
       "  color: var(--sklearn-color-background);\n",
       "  text-decoration: none;\n",
       "}\n",
       "\n",
       "div.sk-estimator.fitted:hover .sk-estimator-doc-link.fitted:hover,\n",
       ".sk-estimator-doc-link.fitted:hover,\n",
       "div.sk-label-container:hover .sk-estimator-doc-link.fitted:hover,\n",
       ".sk-estimator-doc-link.fitted:hover {\n",
       "  /* fitted */\n",
       "  background-color: var(--sklearn-color-fitted-level-3);\n",
       "  color: var(--sklearn-color-background);\n",
       "  text-decoration: none;\n",
       "}\n",
       "\n",
       "/* Span, style for the box shown on hovering the info icon */\n",
       ".sk-estimator-doc-link span {\n",
       "  display: none;\n",
       "  z-index: 9999;\n",
       "  position: relative;\n",
       "  font-weight: normal;\n",
       "  right: .2ex;\n",
       "  padding: .5ex;\n",
       "  margin: .5ex;\n",
       "  width: min-content;\n",
       "  min-width: 20ex;\n",
       "  max-width: 50ex;\n",
       "  color: var(--sklearn-color-text);\n",
       "  box-shadow: 2pt 2pt 4pt #999;\n",
       "  /* unfitted */\n",
       "  background: var(--sklearn-color-unfitted-level-0);\n",
       "  border: .5pt solid var(--sklearn-color-unfitted-level-3);\n",
       "}\n",
       "\n",
       ".sk-estimator-doc-link.fitted span {\n",
       "  /* fitted */\n",
       "  background: var(--sklearn-color-fitted-level-0);\n",
       "  border: var(--sklearn-color-fitted-level-3);\n",
       "}\n",
       "\n",
       ".sk-estimator-doc-link:hover span {\n",
       "  display: block;\n",
       "}\n",
       "\n",
       "/* \"?\"-specific style due to the `<a>` HTML tag */\n",
       "\n",
       "#sk-container-id-1 a.estimator_doc_link {\n",
       "  float: right;\n",
       "  font-size: 1rem;\n",
       "  line-height: 1em;\n",
       "  font-family: monospace;\n",
       "  background-color: var(--sklearn-color-background);\n",
       "  border-radius: 1rem;\n",
       "  height: 1rem;\n",
       "  width: 1rem;\n",
       "  text-decoration: none;\n",
       "  /* unfitted */\n",
       "  color: var(--sklearn-color-unfitted-level-1);\n",
       "  border: var(--sklearn-color-unfitted-level-1) 1pt solid;\n",
       "}\n",
       "\n",
       "#sk-container-id-1 a.estimator_doc_link.fitted {\n",
       "  /* fitted */\n",
       "  border: var(--sklearn-color-fitted-level-1) 1pt solid;\n",
       "  color: var(--sklearn-color-fitted-level-1);\n",
       "}\n",
       "\n",
       "/* On hover */\n",
       "#sk-container-id-1 a.estimator_doc_link:hover {\n",
       "  /* unfitted */\n",
       "  background-color: var(--sklearn-color-unfitted-level-3);\n",
       "  color: var(--sklearn-color-background);\n",
       "  text-decoration: none;\n",
       "}\n",
       "\n",
       "#sk-container-id-1 a.estimator_doc_link.fitted:hover {\n",
       "  /* fitted */\n",
       "  background-color: var(--sklearn-color-fitted-level-3);\n",
       "}\n",
       "</style><div id=\"sk-container-id-1\" class=\"sk-top-container\"><div class=\"sk-text-repr-fallback\"><pre>DecisionTreeClassifier(criterion=&#x27;entropy&#x27;, random_state=0)</pre><b>In a Jupyter environment, please rerun this cell to show the HTML representation or trust the notebook. <br />On GitHub, the HTML representation is unable to render, please try loading this page with nbviewer.org.</b></div><div class=\"sk-container\" hidden><div class=\"sk-item\"><div class=\"sk-estimator fitted sk-toggleable\"><input class=\"sk-toggleable__control sk-hidden--visually\" id=\"sk-estimator-id-1\" type=\"checkbox\" checked><label for=\"sk-estimator-id-1\" class=\"sk-toggleable__label fitted sk-toggleable__label-arrow fitted\">&nbsp;&nbsp;DecisionTreeClassifier<a class=\"sk-estimator-doc-link fitted\" rel=\"noreferrer\" target=\"_blank\" href=\"https://scikit-learn.org/1.5/modules/generated/sklearn.tree.DecisionTreeClassifier.html\">?<span>Documentation for DecisionTreeClassifier</span></a><span class=\"sk-estimator-doc-link fitted\">i<span>Fitted</span></span></label><div class=\"sk-toggleable__content fitted\"><pre>DecisionTreeClassifier(criterion=&#x27;entropy&#x27;, random_state=0)</pre></div> </div></div></div></div>"
      ],
      "text/plain": [
       "DecisionTreeClassifier(criterion='entropy', random_state=0)"
      ]
     },
     "execution_count": 29,
     "metadata": {},
     "output_type": "execute_result"
    }
   ],
   "source": [
    "#Fitting the Decision Tree Classifier model on X and Y\n",
    "from sklearn.tree import DecisionTreeClassifier\n",
    "model1=DecisionTreeClassifier(criterion='entropy',random_state=0)\n",
    "model1.fit(X_train,Y_train) "
   ]
  },
  {
   "cell_type": "code",
   "execution_count": 30,
   "id": "e4ee19e4",
   "metadata": {
    "execution": {
     "iopub.execute_input": "2023-08-29T17:02:38.153615Z",
     "iopub.status.busy": "2023-08-29T17:02:38.153242Z",
     "iopub.status.idle": "2023-08-29T17:02:38.158249Z",
     "shell.execute_reply": "2023-08-29T17:02:38.157361Z"
    },
    "papermill": {
     "duration": 0.037223,
     "end_time": "2023-08-29T17:02:38.160248",
     "exception": false,
     "start_time": "2023-08-29T17:02:38.123025",
     "status": "completed"
    },
    "tags": []
   },
   "outputs": [],
   "source": [
    "# prediction of this model \n",
    "pred1=model1.predict(X_test)"
   ]
  },
  {
   "cell_type": "code",
   "execution_count": 31,
   "id": "235e5180",
   "metadata": {
    "execution": {
     "iopub.execute_input": "2023-08-29T17:02:38.218041Z",
     "iopub.status.busy": "2023-08-29T17:02:38.217386Z",
     "iopub.status.idle": "2023-08-29T17:02:38.224110Z",
     "shell.execute_reply": "2023-08-29T17:02:38.223018Z"
    },
    "papermill": {
     "duration": 0.038634,
     "end_time": "2023-08-29T17:02:38.226662",
     "exception": false,
     "start_time": "2023-08-29T17:02:38.188028",
     "status": "completed"
    },
    "tags": []
   },
   "outputs": [
    {
     "name": "stdout",
     "output_type": "stream",
     "text": [
      "0.95\n"
     ]
    }
   ],
   "source": [
    "#Testing model accuracy on test data\n",
    "from sklearn.metrics import accuracy_score\n",
    "print(accuracy_score(Y_test,pred1))"
   ]
  },
  {
   "cell_type": "code",
   "execution_count": 32,
   "id": "d8ceced8",
   "metadata": {
    "execution": {
     "iopub.execute_input": "2023-08-29T17:02:38.283996Z",
     "iopub.status.busy": "2023-08-29T17:02:38.283608Z",
     "iopub.status.idle": "2023-08-29T17:02:38.291102Z",
     "shell.execute_reply": "2023-08-29T17:02:38.289769Z"
    },
    "papermill": {
     "duration": 0.038518,
     "end_time": "2023-08-29T17:02:38.293046",
     "exception": false,
     "start_time": "2023-08-29T17:02:38.254528",
     "status": "completed"
    },
    "tags": []
   },
   "outputs": [
    {
     "name": "stdout",
     "output_type": "stream",
     "text": [
      "[[17  0]\n",
      " [ 1  2]]\n"
     ]
    }
   ],
   "source": [
    "#Confusion Matrix\n",
    "from sklearn.metrics import confusion_matrix\n",
    "print(confusion_matrix(Y_test,pred1))"
   ]
  },
  {
   "cell_type": "code",
   "execution_count": 33,
   "id": "df62f818",
   "metadata": {
    "execution": {
     "iopub.execute_input": "2023-08-29T17:02:38.351163Z",
     "iopub.status.busy": "2023-08-29T17:02:38.350447Z",
     "iopub.status.idle": "2023-08-29T17:02:38.363315Z",
     "shell.execute_reply": "2023-08-29T17:02:38.361933Z"
    },
    "papermill": {
     "duration": 0.04469,
     "end_time": "2023-08-29T17:02:38.365336",
     "exception": false,
     "start_time": "2023-08-29T17:02:38.320646",
     "status": "completed"
    },
    "tags": []
   },
   "outputs": [
    {
     "name": "stdout",
     "output_type": "stream",
     "text": [
      "              precision    recall  f1-score   support\n",
      "\n",
      "         0.0       0.94      1.00      0.97        17\n",
      "         1.0       1.00      0.67      0.80         3\n",
      "\n",
      "    accuracy                           0.95        20\n",
      "   macro avg       0.97      0.83      0.89        20\n",
      "weighted avg       0.95      0.95      0.95        20\n",
      "\n"
     ]
    }
   ],
   "source": [
    "#Classification report\n",
    "from sklearn.metrics import classification_report\n",
    "print(classification_report(Y_test,pred1))"
   ]
  },
  {
   "cell_type": "markdown",
   "id": "bee8cb9e",
   "metadata": {
    "papermill": {
     "duration": 0.027383,
     "end_time": "2023-08-29T17:02:38.420354",
     "exception": false,
     "start_time": "2023-08-29T17:02:38.392971",
     "status": "completed"
    },
    "tags": []
   },
   "source": [
    "**Model 2:- Logistic Regression**"
   ]
  },
  {
   "cell_type": "code",
   "execution_count": 34,
   "id": "544cba53",
   "metadata": {
    "execution": {
     "iopub.execute_input": "2023-08-29T17:02:38.477698Z",
     "iopub.status.busy": "2023-08-29T17:02:38.476959Z",
     "iopub.status.idle": "2023-08-29T17:02:38.495504Z",
     "shell.execute_reply": "2023-08-29T17:02:38.494381Z"
    },
    "papermill": {
     "duration": 0.049616,
     "end_time": "2023-08-29T17:02:38.497643",
     "exception": false,
     "start_time": "2023-08-29T17:02:38.448027",
     "status": "completed"
    },
    "tags": []
   },
   "outputs": [
    {
     "data": {
      "text/html": [
       "<style>#sk-container-id-2 {\n",
       "  /* Definition of color scheme common for light and dark mode */\n",
       "  --sklearn-color-text: black;\n",
       "  --sklearn-color-line: gray;\n",
       "  /* Definition of color scheme for unfitted estimators */\n",
       "  --sklearn-color-unfitted-level-0: #fff5e6;\n",
       "  --sklearn-color-unfitted-level-1: #f6e4d2;\n",
       "  --sklearn-color-unfitted-level-2: #ffe0b3;\n",
       "  --sklearn-color-unfitted-level-3: chocolate;\n",
       "  /* Definition of color scheme for fitted estimators */\n",
       "  --sklearn-color-fitted-level-0: #f0f8ff;\n",
       "  --sklearn-color-fitted-level-1: #d4ebff;\n",
       "  --sklearn-color-fitted-level-2: #b3dbfd;\n",
       "  --sklearn-color-fitted-level-3: cornflowerblue;\n",
       "\n",
       "  /* Specific color for light theme */\n",
       "  --sklearn-color-text-on-default-background: var(--sg-text-color, var(--theme-code-foreground, var(--jp-content-font-color1, black)));\n",
       "  --sklearn-color-background: var(--sg-background-color, var(--theme-background, var(--jp-layout-color0, white)));\n",
       "  --sklearn-color-border-box: var(--sg-text-color, var(--theme-code-foreground, var(--jp-content-font-color1, black)));\n",
       "  --sklearn-color-icon: #696969;\n",
       "\n",
       "  @media (prefers-color-scheme: dark) {\n",
       "    /* Redefinition of color scheme for dark theme */\n",
       "    --sklearn-color-text-on-default-background: var(--sg-text-color, var(--theme-code-foreground, var(--jp-content-font-color1, white)));\n",
       "    --sklearn-color-background: var(--sg-background-color, var(--theme-background, var(--jp-layout-color0, #111)));\n",
       "    --sklearn-color-border-box: var(--sg-text-color, var(--theme-code-foreground, var(--jp-content-font-color1, white)));\n",
       "    --sklearn-color-icon: #878787;\n",
       "  }\n",
       "}\n",
       "\n",
       "#sk-container-id-2 {\n",
       "  color: var(--sklearn-color-text);\n",
       "}\n",
       "\n",
       "#sk-container-id-2 pre {\n",
       "  padding: 0;\n",
       "}\n",
       "\n",
       "#sk-container-id-2 input.sk-hidden--visually {\n",
       "  border: 0;\n",
       "  clip: rect(1px 1px 1px 1px);\n",
       "  clip: rect(1px, 1px, 1px, 1px);\n",
       "  height: 1px;\n",
       "  margin: -1px;\n",
       "  overflow: hidden;\n",
       "  padding: 0;\n",
       "  position: absolute;\n",
       "  width: 1px;\n",
       "}\n",
       "\n",
       "#sk-container-id-2 div.sk-dashed-wrapped {\n",
       "  border: 1px dashed var(--sklearn-color-line);\n",
       "  margin: 0 0.4em 0.5em 0.4em;\n",
       "  box-sizing: border-box;\n",
       "  padding-bottom: 0.4em;\n",
       "  background-color: var(--sklearn-color-background);\n",
       "}\n",
       "\n",
       "#sk-container-id-2 div.sk-container {\n",
       "  /* jupyter's `normalize.less` sets `[hidden] { display: none; }`\n",
       "     but bootstrap.min.css set `[hidden] { display: none !important; }`\n",
       "     so we also need the `!important` here to be able to override the\n",
       "     default hidden behavior on the sphinx rendered scikit-learn.org.\n",
       "     See: https://github.com/scikit-learn/scikit-learn/issues/21755 */\n",
       "  display: inline-block !important;\n",
       "  position: relative;\n",
       "}\n",
       "\n",
       "#sk-container-id-2 div.sk-text-repr-fallback {\n",
       "  display: none;\n",
       "}\n",
       "\n",
       "div.sk-parallel-item,\n",
       "div.sk-serial,\n",
       "div.sk-item {\n",
       "  /* draw centered vertical line to link estimators */\n",
       "  background-image: linear-gradient(var(--sklearn-color-text-on-default-background), var(--sklearn-color-text-on-default-background));\n",
       "  background-size: 2px 100%;\n",
       "  background-repeat: no-repeat;\n",
       "  background-position: center center;\n",
       "}\n",
       "\n",
       "/* Parallel-specific style estimator block */\n",
       "\n",
       "#sk-container-id-2 div.sk-parallel-item::after {\n",
       "  content: \"\";\n",
       "  width: 100%;\n",
       "  border-bottom: 2px solid var(--sklearn-color-text-on-default-background);\n",
       "  flex-grow: 1;\n",
       "}\n",
       "\n",
       "#sk-container-id-2 div.sk-parallel {\n",
       "  display: flex;\n",
       "  align-items: stretch;\n",
       "  justify-content: center;\n",
       "  background-color: var(--sklearn-color-background);\n",
       "  position: relative;\n",
       "}\n",
       "\n",
       "#sk-container-id-2 div.sk-parallel-item {\n",
       "  display: flex;\n",
       "  flex-direction: column;\n",
       "}\n",
       "\n",
       "#sk-container-id-2 div.sk-parallel-item:first-child::after {\n",
       "  align-self: flex-end;\n",
       "  width: 50%;\n",
       "}\n",
       "\n",
       "#sk-container-id-2 div.sk-parallel-item:last-child::after {\n",
       "  align-self: flex-start;\n",
       "  width: 50%;\n",
       "}\n",
       "\n",
       "#sk-container-id-2 div.sk-parallel-item:only-child::after {\n",
       "  width: 0;\n",
       "}\n",
       "\n",
       "/* Serial-specific style estimator block */\n",
       "\n",
       "#sk-container-id-2 div.sk-serial {\n",
       "  display: flex;\n",
       "  flex-direction: column;\n",
       "  align-items: center;\n",
       "  background-color: var(--sklearn-color-background);\n",
       "  padding-right: 1em;\n",
       "  padding-left: 1em;\n",
       "}\n",
       "\n",
       "\n",
       "/* Toggleable style: style used for estimator/Pipeline/ColumnTransformer box that is\n",
       "clickable and can be expanded/collapsed.\n",
       "- Pipeline and ColumnTransformer use this feature and define the default style\n",
       "- Estimators will overwrite some part of the style using the `sk-estimator` class\n",
       "*/\n",
       "\n",
       "/* Pipeline and ColumnTransformer style (default) */\n",
       "\n",
       "#sk-container-id-2 div.sk-toggleable {\n",
       "  /* Default theme specific background. It is overwritten whether we have a\n",
       "  specific estimator or a Pipeline/ColumnTransformer */\n",
       "  background-color: var(--sklearn-color-background);\n",
       "}\n",
       "\n",
       "/* Toggleable label */\n",
       "#sk-container-id-2 label.sk-toggleable__label {\n",
       "  cursor: pointer;\n",
       "  display: block;\n",
       "  width: 100%;\n",
       "  margin-bottom: 0;\n",
       "  padding: 0.5em;\n",
       "  box-sizing: border-box;\n",
       "  text-align: center;\n",
       "}\n",
       "\n",
       "#sk-container-id-2 label.sk-toggleable__label-arrow:before {\n",
       "  /* Arrow on the left of the label */\n",
       "  content: \"▸\";\n",
       "  float: left;\n",
       "  margin-right: 0.25em;\n",
       "  color: var(--sklearn-color-icon);\n",
       "}\n",
       "\n",
       "#sk-container-id-2 label.sk-toggleable__label-arrow:hover:before {\n",
       "  color: var(--sklearn-color-text);\n",
       "}\n",
       "\n",
       "/* Toggleable content - dropdown */\n",
       "\n",
       "#sk-container-id-2 div.sk-toggleable__content {\n",
       "  max-height: 0;\n",
       "  max-width: 0;\n",
       "  overflow: hidden;\n",
       "  text-align: left;\n",
       "  /* unfitted */\n",
       "  background-color: var(--sklearn-color-unfitted-level-0);\n",
       "}\n",
       "\n",
       "#sk-container-id-2 div.sk-toggleable__content.fitted {\n",
       "  /* fitted */\n",
       "  background-color: var(--sklearn-color-fitted-level-0);\n",
       "}\n",
       "\n",
       "#sk-container-id-2 div.sk-toggleable__content pre {\n",
       "  margin: 0.2em;\n",
       "  border-radius: 0.25em;\n",
       "  color: var(--sklearn-color-text);\n",
       "  /* unfitted */\n",
       "  background-color: var(--sklearn-color-unfitted-level-0);\n",
       "}\n",
       "\n",
       "#sk-container-id-2 div.sk-toggleable__content.fitted pre {\n",
       "  /* unfitted */\n",
       "  background-color: var(--sklearn-color-fitted-level-0);\n",
       "}\n",
       "\n",
       "#sk-container-id-2 input.sk-toggleable__control:checked~div.sk-toggleable__content {\n",
       "  /* Expand drop-down */\n",
       "  max-height: 200px;\n",
       "  max-width: 100%;\n",
       "  overflow: auto;\n",
       "}\n",
       "\n",
       "#sk-container-id-2 input.sk-toggleable__control:checked~label.sk-toggleable__label-arrow:before {\n",
       "  content: \"▾\";\n",
       "}\n",
       "\n",
       "/* Pipeline/ColumnTransformer-specific style */\n",
       "\n",
       "#sk-container-id-2 div.sk-label input.sk-toggleable__control:checked~label.sk-toggleable__label {\n",
       "  color: var(--sklearn-color-text);\n",
       "  background-color: var(--sklearn-color-unfitted-level-2);\n",
       "}\n",
       "\n",
       "#sk-container-id-2 div.sk-label.fitted input.sk-toggleable__control:checked~label.sk-toggleable__label {\n",
       "  background-color: var(--sklearn-color-fitted-level-2);\n",
       "}\n",
       "\n",
       "/* Estimator-specific style */\n",
       "\n",
       "/* Colorize estimator box */\n",
       "#sk-container-id-2 div.sk-estimator input.sk-toggleable__control:checked~label.sk-toggleable__label {\n",
       "  /* unfitted */\n",
       "  background-color: var(--sklearn-color-unfitted-level-2);\n",
       "}\n",
       "\n",
       "#sk-container-id-2 div.sk-estimator.fitted input.sk-toggleable__control:checked~label.sk-toggleable__label {\n",
       "  /* fitted */\n",
       "  background-color: var(--sklearn-color-fitted-level-2);\n",
       "}\n",
       "\n",
       "#sk-container-id-2 div.sk-label label.sk-toggleable__label,\n",
       "#sk-container-id-2 div.sk-label label {\n",
       "  /* The background is the default theme color */\n",
       "  color: var(--sklearn-color-text-on-default-background);\n",
       "}\n",
       "\n",
       "/* On hover, darken the color of the background */\n",
       "#sk-container-id-2 div.sk-label:hover label.sk-toggleable__label {\n",
       "  color: var(--sklearn-color-text);\n",
       "  background-color: var(--sklearn-color-unfitted-level-2);\n",
       "}\n",
       "\n",
       "/* Label box, darken color on hover, fitted */\n",
       "#sk-container-id-2 div.sk-label.fitted:hover label.sk-toggleable__label.fitted {\n",
       "  color: var(--sklearn-color-text);\n",
       "  background-color: var(--sklearn-color-fitted-level-2);\n",
       "}\n",
       "\n",
       "/* Estimator label */\n",
       "\n",
       "#sk-container-id-2 div.sk-label label {\n",
       "  font-family: monospace;\n",
       "  font-weight: bold;\n",
       "  display: inline-block;\n",
       "  line-height: 1.2em;\n",
       "}\n",
       "\n",
       "#sk-container-id-2 div.sk-label-container {\n",
       "  text-align: center;\n",
       "}\n",
       "\n",
       "/* Estimator-specific */\n",
       "#sk-container-id-2 div.sk-estimator {\n",
       "  font-family: monospace;\n",
       "  border: 1px dotted var(--sklearn-color-border-box);\n",
       "  border-radius: 0.25em;\n",
       "  box-sizing: border-box;\n",
       "  margin-bottom: 0.5em;\n",
       "  /* unfitted */\n",
       "  background-color: var(--sklearn-color-unfitted-level-0);\n",
       "}\n",
       "\n",
       "#sk-container-id-2 div.sk-estimator.fitted {\n",
       "  /* fitted */\n",
       "  background-color: var(--sklearn-color-fitted-level-0);\n",
       "}\n",
       "\n",
       "/* on hover */\n",
       "#sk-container-id-2 div.sk-estimator:hover {\n",
       "  /* unfitted */\n",
       "  background-color: var(--sklearn-color-unfitted-level-2);\n",
       "}\n",
       "\n",
       "#sk-container-id-2 div.sk-estimator.fitted:hover {\n",
       "  /* fitted */\n",
       "  background-color: var(--sklearn-color-fitted-level-2);\n",
       "}\n",
       "\n",
       "/* Specification for estimator info (e.g. \"i\" and \"?\") */\n",
       "\n",
       "/* Common style for \"i\" and \"?\" */\n",
       "\n",
       ".sk-estimator-doc-link,\n",
       "a:link.sk-estimator-doc-link,\n",
       "a:visited.sk-estimator-doc-link {\n",
       "  float: right;\n",
       "  font-size: smaller;\n",
       "  line-height: 1em;\n",
       "  font-family: monospace;\n",
       "  background-color: var(--sklearn-color-background);\n",
       "  border-radius: 1em;\n",
       "  height: 1em;\n",
       "  width: 1em;\n",
       "  text-decoration: none !important;\n",
       "  margin-left: 1ex;\n",
       "  /* unfitted */\n",
       "  border: var(--sklearn-color-unfitted-level-1) 1pt solid;\n",
       "  color: var(--sklearn-color-unfitted-level-1);\n",
       "}\n",
       "\n",
       ".sk-estimator-doc-link.fitted,\n",
       "a:link.sk-estimator-doc-link.fitted,\n",
       "a:visited.sk-estimator-doc-link.fitted {\n",
       "  /* fitted */\n",
       "  border: var(--sklearn-color-fitted-level-1) 1pt solid;\n",
       "  color: var(--sklearn-color-fitted-level-1);\n",
       "}\n",
       "\n",
       "/* On hover */\n",
       "div.sk-estimator:hover .sk-estimator-doc-link:hover,\n",
       ".sk-estimator-doc-link:hover,\n",
       "div.sk-label-container:hover .sk-estimator-doc-link:hover,\n",
       ".sk-estimator-doc-link:hover {\n",
       "  /* unfitted */\n",
       "  background-color: var(--sklearn-color-unfitted-level-3);\n",
       "  color: var(--sklearn-color-background);\n",
       "  text-decoration: none;\n",
       "}\n",
       "\n",
       "div.sk-estimator.fitted:hover .sk-estimator-doc-link.fitted:hover,\n",
       ".sk-estimator-doc-link.fitted:hover,\n",
       "div.sk-label-container:hover .sk-estimator-doc-link.fitted:hover,\n",
       ".sk-estimator-doc-link.fitted:hover {\n",
       "  /* fitted */\n",
       "  background-color: var(--sklearn-color-fitted-level-3);\n",
       "  color: var(--sklearn-color-background);\n",
       "  text-decoration: none;\n",
       "}\n",
       "\n",
       "/* Span, style for the box shown on hovering the info icon */\n",
       ".sk-estimator-doc-link span {\n",
       "  display: none;\n",
       "  z-index: 9999;\n",
       "  position: relative;\n",
       "  font-weight: normal;\n",
       "  right: .2ex;\n",
       "  padding: .5ex;\n",
       "  margin: .5ex;\n",
       "  width: min-content;\n",
       "  min-width: 20ex;\n",
       "  max-width: 50ex;\n",
       "  color: var(--sklearn-color-text);\n",
       "  box-shadow: 2pt 2pt 4pt #999;\n",
       "  /* unfitted */\n",
       "  background: var(--sklearn-color-unfitted-level-0);\n",
       "  border: .5pt solid var(--sklearn-color-unfitted-level-3);\n",
       "}\n",
       "\n",
       ".sk-estimator-doc-link.fitted span {\n",
       "  /* fitted */\n",
       "  background: var(--sklearn-color-fitted-level-0);\n",
       "  border: var(--sklearn-color-fitted-level-3);\n",
       "}\n",
       "\n",
       ".sk-estimator-doc-link:hover span {\n",
       "  display: block;\n",
       "}\n",
       "\n",
       "/* \"?\"-specific style due to the `<a>` HTML tag */\n",
       "\n",
       "#sk-container-id-2 a.estimator_doc_link {\n",
       "  float: right;\n",
       "  font-size: 1rem;\n",
       "  line-height: 1em;\n",
       "  font-family: monospace;\n",
       "  background-color: var(--sklearn-color-background);\n",
       "  border-radius: 1rem;\n",
       "  height: 1rem;\n",
       "  width: 1rem;\n",
       "  text-decoration: none;\n",
       "  /* unfitted */\n",
       "  color: var(--sklearn-color-unfitted-level-1);\n",
       "  border: var(--sklearn-color-unfitted-level-1) 1pt solid;\n",
       "}\n",
       "\n",
       "#sk-container-id-2 a.estimator_doc_link.fitted {\n",
       "  /* fitted */\n",
       "  border: var(--sklearn-color-fitted-level-1) 1pt solid;\n",
       "  color: var(--sklearn-color-fitted-level-1);\n",
       "}\n",
       "\n",
       "/* On hover */\n",
       "#sk-container-id-2 a.estimator_doc_link:hover {\n",
       "  /* unfitted */\n",
       "  background-color: var(--sklearn-color-unfitted-level-3);\n",
       "  color: var(--sklearn-color-background);\n",
       "  text-decoration: none;\n",
       "}\n",
       "\n",
       "#sk-container-id-2 a.estimator_doc_link.fitted:hover {\n",
       "  /* fitted */\n",
       "  background-color: var(--sklearn-color-fitted-level-3);\n",
       "}\n",
       "</style><div id=\"sk-container-id-2\" class=\"sk-top-container\"><div class=\"sk-text-repr-fallback\"><pre>LogisticRegression()</pre><b>In a Jupyter environment, please rerun this cell to show the HTML representation or trust the notebook. <br />On GitHub, the HTML representation is unable to render, please try loading this page with nbviewer.org.</b></div><div class=\"sk-container\" hidden><div class=\"sk-item\"><div class=\"sk-estimator fitted sk-toggleable\"><input class=\"sk-toggleable__control sk-hidden--visually\" id=\"sk-estimator-id-2\" type=\"checkbox\" checked><label for=\"sk-estimator-id-2\" class=\"sk-toggleable__label fitted sk-toggleable__label-arrow fitted\">&nbsp;&nbsp;LogisticRegression<a class=\"sk-estimator-doc-link fitted\" rel=\"noreferrer\" target=\"_blank\" href=\"https://scikit-learn.org/1.5/modules/generated/sklearn.linear_model.LogisticRegression.html\">?<span>Documentation for LogisticRegression</span></a><span class=\"sk-estimator-doc-link fitted\">i<span>Fitted</span></span></label><div class=\"sk-toggleable__content fitted\"><pre>LogisticRegression()</pre></div> </div></div></div></div>"
      ],
      "text/plain": [
       "LogisticRegression()"
      ]
     },
     "execution_count": 34,
     "metadata": {},
     "output_type": "execute_result"
    }
   ],
   "source": [
    "#Fitting the Logistic Regression model on X and Y\n",
    "from sklearn.linear_model import LogisticRegression\n",
    "model2=LogisticRegression()\n",
    "model2.fit(X_train,Y_train)"
   ]
  },
  {
   "cell_type": "code",
   "execution_count": 35,
   "id": "501ae9ea",
   "metadata": {
    "execution": {
     "iopub.execute_input": "2023-08-29T17:02:38.557024Z",
     "iopub.status.busy": "2023-08-29T17:02:38.556598Z",
     "iopub.status.idle": "2023-08-29T17:02:38.561502Z",
     "shell.execute_reply": "2023-08-29T17:02:38.560327Z"
    },
    "papermill": {
     "duration": 0.036635,
     "end_time": "2023-08-29T17:02:38.563706",
     "exception": false,
     "start_time": "2023-08-29T17:02:38.527071",
     "status": "completed"
    },
    "tags": []
   },
   "outputs": [],
   "source": [
    "#prediction of this model\n",
    "pred2=model2.predict(X_test)"
   ]
  },
  {
   "cell_type": "code",
   "execution_count": 36,
   "id": "9f901a29",
   "metadata": {
    "execution": {
     "iopub.execute_input": "2023-08-29T17:02:38.621725Z",
     "iopub.status.busy": "2023-08-29T17:02:38.620719Z",
     "iopub.status.idle": "2023-08-29T17:02:38.627719Z",
     "shell.execute_reply": "2023-08-29T17:02:38.626412Z"
    },
    "papermill": {
     "duration": 0.037983,
     "end_time": "2023-08-29T17:02:38.629582",
     "exception": false,
     "start_time": "2023-08-29T17:02:38.591599",
     "status": "completed"
    },
    "tags": []
   },
   "outputs": [
    {
     "name": "stdout",
     "output_type": "stream",
     "text": [
      "0.9\n"
     ]
    }
   ],
   "source": [
    "#Testing model accuracy on test data\n",
    "from sklearn.metrics import accuracy_score\n",
    "print(accuracy_score(Y_test,pred2))"
   ]
  },
  {
   "cell_type": "code",
   "execution_count": 37,
   "id": "68ab937c",
   "metadata": {
    "execution": {
     "iopub.execute_input": "2023-08-29T17:02:38.688926Z",
     "iopub.status.busy": "2023-08-29T17:02:38.687744Z",
     "iopub.status.idle": "2023-08-29T17:02:38.694534Z",
     "shell.execute_reply": "2023-08-29T17:02:38.693389Z"
    },
    "papermill": {
     "duration": 0.038643,
     "end_time": "2023-08-29T17:02:38.696632",
     "exception": false,
     "start_time": "2023-08-29T17:02:38.657989",
     "status": "completed"
    },
    "tags": []
   },
   "outputs": [
    {
     "name": "stdout",
     "output_type": "stream",
     "text": [
      "[[17  0]\n",
      " [ 2  1]]\n"
     ]
    }
   ],
   "source": [
    "#Confusion Matrix\n",
    "from sklearn.metrics import confusion_matrix\n",
    "print(confusion_matrix(Y_test,pred2))"
   ]
  },
  {
   "cell_type": "code",
   "execution_count": 38,
   "id": "4605ce6e",
   "metadata": {
    "execution": {
     "iopub.execute_input": "2023-08-29T17:02:38.757083Z",
     "iopub.status.busy": "2023-08-29T17:02:38.756651Z",
     "iopub.status.idle": "2023-08-29T17:02:38.773599Z",
     "shell.execute_reply": "2023-08-29T17:02:38.772112Z"
    },
    "papermill": {
     "duration": 0.050118,
     "end_time": "2023-08-29T17:02:38.775705",
     "exception": false,
     "start_time": "2023-08-29T17:02:38.725587",
     "status": "completed"
    },
    "tags": []
   },
   "outputs": [
    {
     "name": "stdout",
     "output_type": "stream",
     "text": [
      "              precision    recall  f1-score   support\n",
      "\n",
      "         0.0       0.89      1.00      0.94        17\n",
      "         1.0       1.00      0.33      0.50         3\n",
      "\n",
      "    accuracy                           0.90        20\n",
      "   macro avg       0.95      0.67      0.72        20\n",
      "weighted avg       0.91      0.90      0.88        20\n",
      "\n"
     ]
    }
   ],
   "source": [
    "#Classification report\n",
    "from sklearn.metrics import classification_report\n",
    "print(classification_report(Y_test,pred2))"
   ]
  },
  {
   "cell_type": "markdown",
   "id": "513e78ab",
   "metadata": {
    "papermill": {
     "duration": 0.028144,
     "end_time": "2023-08-29T17:02:38.832304",
     "exception": false,
     "start_time": "2023-08-29T17:02:38.804160",
     "status": "completed"
    },
    "tags": []
   },
   "source": [
    "**Model 3:- Random Forest Classifier**"
   ]
  },
  {
   "cell_type": "code",
   "execution_count": 39,
   "id": "99dbbe01",
   "metadata": {
    "execution": {
     "iopub.execute_input": "2023-08-29T17:02:38.890781Z",
     "iopub.status.busy": "2023-08-29T17:02:38.890406Z",
     "iopub.status.idle": "2023-08-29T17:02:39.171929Z",
     "shell.execute_reply": "2023-08-29T17:02:39.170923Z"
    },
    "papermill": {
     "duration": 0.313606,
     "end_time": "2023-08-29T17:02:39.174108",
     "exception": false,
     "start_time": "2023-08-29T17:02:38.860502",
     "status": "completed"
    },
    "tags": []
   },
   "outputs": [
    {
     "data": {
      "text/html": [
       "<style>#sk-container-id-3 {\n",
       "  /* Definition of color scheme common for light and dark mode */\n",
       "  --sklearn-color-text: black;\n",
       "  --sklearn-color-line: gray;\n",
       "  /* Definition of color scheme for unfitted estimators */\n",
       "  --sklearn-color-unfitted-level-0: #fff5e6;\n",
       "  --sklearn-color-unfitted-level-1: #f6e4d2;\n",
       "  --sklearn-color-unfitted-level-2: #ffe0b3;\n",
       "  --sklearn-color-unfitted-level-3: chocolate;\n",
       "  /* Definition of color scheme for fitted estimators */\n",
       "  --sklearn-color-fitted-level-0: #f0f8ff;\n",
       "  --sklearn-color-fitted-level-1: #d4ebff;\n",
       "  --sklearn-color-fitted-level-2: #b3dbfd;\n",
       "  --sklearn-color-fitted-level-3: cornflowerblue;\n",
       "\n",
       "  /* Specific color for light theme */\n",
       "  --sklearn-color-text-on-default-background: var(--sg-text-color, var(--theme-code-foreground, var(--jp-content-font-color1, black)));\n",
       "  --sklearn-color-background: var(--sg-background-color, var(--theme-background, var(--jp-layout-color0, white)));\n",
       "  --sklearn-color-border-box: var(--sg-text-color, var(--theme-code-foreground, var(--jp-content-font-color1, black)));\n",
       "  --sklearn-color-icon: #696969;\n",
       "\n",
       "  @media (prefers-color-scheme: dark) {\n",
       "    /* Redefinition of color scheme for dark theme */\n",
       "    --sklearn-color-text-on-default-background: var(--sg-text-color, var(--theme-code-foreground, var(--jp-content-font-color1, white)));\n",
       "    --sklearn-color-background: var(--sg-background-color, var(--theme-background, var(--jp-layout-color0, #111)));\n",
       "    --sklearn-color-border-box: var(--sg-text-color, var(--theme-code-foreground, var(--jp-content-font-color1, white)));\n",
       "    --sklearn-color-icon: #878787;\n",
       "  }\n",
       "}\n",
       "\n",
       "#sk-container-id-3 {\n",
       "  color: var(--sklearn-color-text);\n",
       "}\n",
       "\n",
       "#sk-container-id-3 pre {\n",
       "  padding: 0;\n",
       "}\n",
       "\n",
       "#sk-container-id-3 input.sk-hidden--visually {\n",
       "  border: 0;\n",
       "  clip: rect(1px 1px 1px 1px);\n",
       "  clip: rect(1px, 1px, 1px, 1px);\n",
       "  height: 1px;\n",
       "  margin: -1px;\n",
       "  overflow: hidden;\n",
       "  padding: 0;\n",
       "  position: absolute;\n",
       "  width: 1px;\n",
       "}\n",
       "\n",
       "#sk-container-id-3 div.sk-dashed-wrapped {\n",
       "  border: 1px dashed var(--sklearn-color-line);\n",
       "  margin: 0 0.4em 0.5em 0.4em;\n",
       "  box-sizing: border-box;\n",
       "  padding-bottom: 0.4em;\n",
       "  background-color: var(--sklearn-color-background);\n",
       "}\n",
       "\n",
       "#sk-container-id-3 div.sk-container {\n",
       "  /* jupyter's `normalize.less` sets `[hidden] { display: none; }`\n",
       "     but bootstrap.min.css set `[hidden] { display: none !important; }`\n",
       "     so we also need the `!important` here to be able to override the\n",
       "     default hidden behavior on the sphinx rendered scikit-learn.org.\n",
       "     See: https://github.com/scikit-learn/scikit-learn/issues/21755 */\n",
       "  display: inline-block !important;\n",
       "  position: relative;\n",
       "}\n",
       "\n",
       "#sk-container-id-3 div.sk-text-repr-fallback {\n",
       "  display: none;\n",
       "}\n",
       "\n",
       "div.sk-parallel-item,\n",
       "div.sk-serial,\n",
       "div.sk-item {\n",
       "  /* draw centered vertical line to link estimators */\n",
       "  background-image: linear-gradient(var(--sklearn-color-text-on-default-background), var(--sklearn-color-text-on-default-background));\n",
       "  background-size: 2px 100%;\n",
       "  background-repeat: no-repeat;\n",
       "  background-position: center center;\n",
       "}\n",
       "\n",
       "/* Parallel-specific style estimator block */\n",
       "\n",
       "#sk-container-id-3 div.sk-parallel-item::after {\n",
       "  content: \"\";\n",
       "  width: 100%;\n",
       "  border-bottom: 2px solid var(--sklearn-color-text-on-default-background);\n",
       "  flex-grow: 1;\n",
       "}\n",
       "\n",
       "#sk-container-id-3 div.sk-parallel {\n",
       "  display: flex;\n",
       "  align-items: stretch;\n",
       "  justify-content: center;\n",
       "  background-color: var(--sklearn-color-background);\n",
       "  position: relative;\n",
       "}\n",
       "\n",
       "#sk-container-id-3 div.sk-parallel-item {\n",
       "  display: flex;\n",
       "  flex-direction: column;\n",
       "}\n",
       "\n",
       "#sk-container-id-3 div.sk-parallel-item:first-child::after {\n",
       "  align-self: flex-end;\n",
       "  width: 50%;\n",
       "}\n",
       "\n",
       "#sk-container-id-3 div.sk-parallel-item:last-child::after {\n",
       "  align-self: flex-start;\n",
       "  width: 50%;\n",
       "}\n",
       "\n",
       "#sk-container-id-3 div.sk-parallel-item:only-child::after {\n",
       "  width: 0;\n",
       "}\n",
       "\n",
       "/* Serial-specific style estimator block */\n",
       "\n",
       "#sk-container-id-3 div.sk-serial {\n",
       "  display: flex;\n",
       "  flex-direction: column;\n",
       "  align-items: center;\n",
       "  background-color: var(--sklearn-color-background);\n",
       "  padding-right: 1em;\n",
       "  padding-left: 1em;\n",
       "}\n",
       "\n",
       "\n",
       "/* Toggleable style: style used for estimator/Pipeline/ColumnTransformer box that is\n",
       "clickable and can be expanded/collapsed.\n",
       "- Pipeline and ColumnTransformer use this feature and define the default style\n",
       "- Estimators will overwrite some part of the style using the `sk-estimator` class\n",
       "*/\n",
       "\n",
       "/* Pipeline and ColumnTransformer style (default) */\n",
       "\n",
       "#sk-container-id-3 div.sk-toggleable {\n",
       "  /* Default theme specific background. It is overwritten whether we have a\n",
       "  specific estimator or a Pipeline/ColumnTransformer */\n",
       "  background-color: var(--sklearn-color-background);\n",
       "}\n",
       "\n",
       "/* Toggleable label */\n",
       "#sk-container-id-3 label.sk-toggleable__label {\n",
       "  cursor: pointer;\n",
       "  display: block;\n",
       "  width: 100%;\n",
       "  margin-bottom: 0;\n",
       "  padding: 0.5em;\n",
       "  box-sizing: border-box;\n",
       "  text-align: center;\n",
       "}\n",
       "\n",
       "#sk-container-id-3 label.sk-toggleable__label-arrow:before {\n",
       "  /* Arrow on the left of the label */\n",
       "  content: \"▸\";\n",
       "  float: left;\n",
       "  margin-right: 0.25em;\n",
       "  color: var(--sklearn-color-icon);\n",
       "}\n",
       "\n",
       "#sk-container-id-3 label.sk-toggleable__label-arrow:hover:before {\n",
       "  color: var(--sklearn-color-text);\n",
       "}\n",
       "\n",
       "/* Toggleable content - dropdown */\n",
       "\n",
       "#sk-container-id-3 div.sk-toggleable__content {\n",
       "  max-height: 0;\n",
       "  max-width: 0;\n",
       "  overflow: hidden;\n",
       "  text-align: left;\n",
       "  /* unfitted */\n",
       "  background-color: var(--sklearn-color-unfitted-level-0);\n",
       "}\n",
       "\n",
       "#sk-container-id-3 div.sk-toggleable__content.fitted {\n",
       "  /* fitted */\n",
       "  background-color: var(--sklearn-color-fitted-level-0);\n",
       "}\n",
       "\n",
       "#sk-container-id-3 div.sk-toggleable__content pre {\n",
       "  margin: 0.2em;\n",
       "  border-radius: 0.25em;\n",
       "  color: var(--sklearn-color-text);\n",
       "  /* unfitted */\n",
       "  background-color: var(--sklearn-color-unfitted-level-0);\n",
       "}\n",
       "\n",
       "#sk-container-id-3 div.sk-toggleable__content.fitted pre {\n",
       "  /* unfitted */\n",
       "  background-color: var(--sklearn-color-fitted-level-0);\n",
       "}\n",
       "\n",
       "#sk-container-id-3 input.sk-toggleable__control:checked~div.sk-toggleable__content {\n",
       "  /* Expand drop-down */\n",
       "  max-height: 200px;\n",
       "  max-width: 100%;\n",
       "  overflow: auto;\n",
       "}\n",
       "\n",
       "#sk-container-id-3 input.sk-toggleable__control:checked~label.sk-toggleable__label-arrow:before {\n",
       "  content: \"▾\";\n",
       "}\n",
       "\n",
       "/* Pipeline/ColumnTransformer-specific style */\n",
       "\n",
       "#sk-container-id-3 div.sk-label input.sk-toggleable__control:checked~label.sk-toggleable__label {\n",
       "  color: var(--sklearn-color-text);\n",
       "  background-color: var(--sklearn-color-unfitted-level-2);\n",
       "}\n",
       "\n",
       "#sk-container-id-3 div.sk-label.fitted input.sk-toggleable__control:checked~label.sk-toggleable__label {\n",
       "  background-color: var(--sklearn-color-fitted-level-2);\n",
       "}\n",
       "\n",
       "/* Estimator-specific style */\n",
       "\n",
       "/* Colorize estimator box */\n",
       "#sk-container-id-3 div.sk-estimator input.sk-toggleable__control:checked~label.sk-toggleable__label {\n",
       "  /* unfitted */\n",
       "  background-color: var(--sklearn-color-unfitted-level-2);\n",
       "}\n",
       "\n",
       "#sk-container-id-3 div.sk-estimator.fitted input.sk-toggleable__control:checked~label.sk-toggleable__label {\n",
       "  /* fitted */\n",
       "  background-color: var(--sklearn-color-fitted-level-2);\n",
       "}\n",
       "\n",
       "#sk-container-id-3 div.sk-label label.sk-toggleable__label,\n",
       "#sk-container-id-3 div.sk-label label {\n",
       "  /* The background is the default theme color */\n",
       "  color: var(--sklearn-color-text-on-default-background);\n",
       "}\n",
       "\n",
       "/* On hover, darken the color of the background */\n",
       "#sk-container-id-3 div.sk-label:hover label.sk-toggleable__label {\n",
       "  color: var(--sklearn-color-text);\n",
       "  background-color: var(--sklearn-color-unfitted-level-2);\n",
       "}\n",
       "\n",
       "/* Label box, darken color on hover, fitted */\n",
       "#sk-container-id-3 div.sk-label.fitted:hover label.sk-toggleable__label.fitted {\n",
       "  color: var(--sklearn-color-text);\n",
       "  background-color: var(--sklearn-color-fitted-level-2);\n",
       "}\n",
       "\n",
       "/* Estimator label */\n",
       "\n",
       "#sk-container-id-3 div.sk-label label {\n",
       "  font-family: monospace;\n",
       "  font-weight: bold;\n",
       "  display: inline-block;\n",
       "  line-height: 1.2em;\n",
       "}\n",
       "\n",
       "#sk-container-id-3 div.sk-label-container {\n",
       "  text-align: center;\n",
       "}\n",
       "\n",
       "/* Estimator-specific */\n",
       "#sk-container-id-3 div.sk-estimator {\n",
       "  font-family: monospace;\n",
       "  border: 1px dotted var(--sklearn-color-border-box);\n",
       "  border-radius: 0.25em;\n",
       "  box-sizing: border-box;\n",
       "  margin-bottom: 0.5em;\n",
       "  /* unfitted */\n",
       "  background-color: var(--sklearn-color-unfitted-level-0);\n",
       "}\n",
       "\n",
       "#sk-container-id-3 div.sk-estimator.fitted {\n",
       "  /* fitted */\n",
       "  background-color: var(--sklearn-color-fitted-level-0);\n",
       "}\n",
       "\n",
       "/* on hover */\n",
       "#sk-container-id-3 div.sk-estimator:hover {\n",
       "  /* unfitted */\n",
       "  background-color: var(--sklearn-color-unfitted-level-2);\n",
       "}\n",
       "\n",
       "#sk-container-id-3 div.sk-estimator.fitted:hover {\n",
       "  /* fitted */\n",
       "  background-color: var(--sklearn-color-fitted-level-2);\n",
       "}\n",
       "\n",
       "/* Specification for estimator info (e.g. \"i\" and \"?\") */\n",
       "\n",
       "/* Common style for \"i\" and \"?\" */\n",
       "\n",
       ".sk-estimator-doc-link,\n",
       "a:link.sk-estimator-doc-link,\n",
       "a:visited.sk-estimator-doc-link {\n",
       "  float: right;\n",
       "  font-size: smaller;\n",
       "  line-height: 1em;\n",
       "  font-family: monospace;\n",
       "  background-color: var(--sklearn-color-background);\n",
       "  border-radius: 1em;\n",
       "  height: 1em;\n",
       "  width: 1em;\n",
       "  text-decoration: none !important;\n",
       "  margin-left: 1ex;\n",
       "  /* unfitted */\n",
       "  border: var(--sklearn-color-unfitted-level-1) 1pt solid;\n",
       "  color: var(--sklearn-color-unfitted-level-1);\n",
       "}\n",
       "\n",
       ".sk-estimator-doc-link.fitted,\n",
       "a:link.sk-estimator-doc-link.fitted,\n",
       "a:visited.sk-estimator-doc-link.fitted {\n",
       "  /* fitted */\n",
       "  border: var(--sklearn-color-fitted-level-1) 1pt solid;\n",
       "  color: var(--sklearn-color-fitted-level-1);\n",
       "}\n",
       "\n",
       "/* On hover */\n",
       "div.sk-estimator:hover .sk-estimator-doc-link:hover,\n",
       ".sk-estimator-doc-link:hover,\n",
       "div.sk-label-container:hover .sk-estimator-doc-link:hover,\n",
       ".sk-estimator-doc-link:hover {\n",
       "  /* unfitted */\n",
       "  background-color: var(--sklearn-color-unfitted-level-3);\n",
       "  color: var(--sklearn-color-background);\n",
       "  text-decoration: none;\n",
       "}\n",
       "\n",
       "div.sk-estimator.fitted:hover .sk-estimator-doc-link.fitted:hover,\n",
       ".sk-estimator-doc-link.fitted:hover,\n",
       "div.sk-label-container:hover .sk-estimator-doc-link.fitted:hover,\n",
       ".sk-estimator-doc-link.fitted:hover {\n",
       "  /* fitted */\n",
       "  background-color: var(--sklearn-color-fitted-level-3);\n",
       "  color: var(--sklearn-color-background);\n",
       "  text-decoration: none;\n",
       "}\n",
       "\n",
       "/* Span, style for the box shown on hovering the info icon */\n",
       ".sk-estimator-doc-link span {\n",
       "  display: none;\n",
       "  z-index: 9999;\n",
       "  position: relative;\n",
       "  font-weight: normal;\n",
       "  right: .2ex;\n",
       "  padding: .5ex;\n",
       "  margin: .5ex;\n",
       "  width: min-content;\n",
       "  min-width: 20ex;\n",
       "  max-width: 50ex;\n",
       "  color: var(--sklearn-color-text);\n",
       "  box-shadow: 2pt 2pt 4pt #999;\n",
       "  /* unfitted */\n",
       "  background: var(--sklearn-color-unfitted-level-0);\n",
       "  border: .5pt solid var(--sklearn-color-unfitted-level-3);\n",
       "}\n",
       "\n",
       ".sk-estimator-doc-link.fitted span {\n",
       "  /* fitted */\n",
       "  background: var(--sklearn-color-fitted-level-0);\n",
       "  border: var(--sklearn-color-fitted-level-3);\n",
       "}\n",
       "\n",
       ".sk-estimator-doc-link:hover span {\n",
       "  display: block;\n",
       "}\n",
       "\n",
       "/* \"?\"-specific style due to the `<a>` HTML tag */\n",
       "\n",
       "#sk-container-id-3 a.estimator_doc_link {\n",
       "  float: right;\n",
       "  font-size: 1rem;\n",
       "  line-height: 1em;\n",
       "  font-family: monospace;\n",
       "  background-color: var(--sklearn-color-background);\n",
       "  border-radius: 1rem;\n",
       "  height: 1rem;\n",
       "  width: 1rem;\n",
       "  text-decoration: none;\n",
       "  /* unfitted */\n",
       "  color: var(--sklearn-color-unfitted-level-1);\n",
       "  border: var(--sklearn-color-unfitted-level-1) 1pt solid;\n",
       "}\n",
       "\n",
       "#sk-container-id-3 a.estimator_doc_link.fitted {\n",
       "  /* fitted */\n",
       "  border: var(--sklearn-color-fitted-level-1) 1pt solid;\n",
       "  color: var(--sklearn-color-fitted-level-1);\n",
       "}\n",
       "\n",
       "/* On hover */\n",
       "#sk-container-id-3 a.estimator_doc_link:hover {\n",
       "  /* unfitted */\n",
       "  background-color: var(--sklearn-color-unfitted-level-3);\n",
       "  color: var(--sklearn-color-background);\n",
       "  text-decoration: none;\n",
       "}\n",
       "\n",
       "#sk-container-id-3 a.estimator_doc_link.fitted:hover {\n",
       "  /* fitted */\n",
       "  background-color: var(--sklearn-color-fitted-level-3);\n",
       "}\n",
       "</style><div id=\"sk-container-id-3\" class=\"sk-top-container\"><div class=\"sk-text-repr-fallback\"><pre>RandomForestClassifier()</pre><b>In a Jupyter environment, please rerun this cell to show the HTML representation or trust the notebook. <br />On GitHub, the HTML representation is unable to render, please try loading this page with nbviewer.org.</b></div><div class=\"sk-container\" hidden><div class=\"sk-item\"><div class=\"sk-estimator fitted sk-toggleable\"><input class=\"sk-toggleable__control sk-hidden--visually\" id=\"sk-estimator-id-3\" type=\"checkbox\" checked><label for=\"sk-estimator-id-3\" class=\"sk-toggleable__label fitted sk-toggleable__label-arrow fitted\">&nbsp;&nbsp;RandomForestClassifier<a class=\"sk-estimator-doc-link fitted\" rel=\"noreferrer\" target=\"_blank\" href=\"https://scikit-learn.org/1.5/modules/generated/sklearn.ensemble.RandomForestClassifier.html\">?<span>Documentation for RandomForestClassifier</span></a><span class=\"sk-estimator-doc-link fitted\">i<span>Fitted</span></span></label><div class=\"sk-toggleable__content fitted\"><pre>RandomForestClassifier()</pre></div> </div></div></div></div>"
      ],
      "text/plain": [
       "RandomForestClassifier()"
      ]
     },
     "execution_count": 39,
     "metadata": {},
     "output_type": "execute_result"
    }
   ],
   "source": [
    "#Fitting the Random Forest Classifier model on X and Y\n",
    "from sklearn.ensemble import RandomForestClassifier\n",
    "model3=RandomForestClassifier()\n",
    "model3.fit(X_train,Y_train)"
   ]
  },
  {
   "cell_type": "code",
   "execution_count": 40,
   "id": "abc197ff",
   "metadata": {
    "execution": {
     "iopub.execute_input": "2023-08-29T17:02:39.232356Z",
     "iopub.status.busy": "2023-08-29T17:02:39.231990Z",
     "iopub.status.idle": "2023-08-29T17:02:39.249185Z",
     "shell.execute_reply": "2023-08-29T17:02:39.247918Z"
    },
    "papermill": {
     "duration": 0.049135,
     "end_time": "2023-08-29T17:02:39.251527",
     "exception": false,
     "start_time": "2023-08-29T17:02:39.202392",
     "status": "completed"
    },
    "tags": []
   },
   "outputs": [],
   "source": [
    "#prediction of this model\n",
    "pred3=model3.predict(X_test)"
   ]
  },
  {
   "cell_type": "code",
   "execution_count": 41,
   "id": "4b76e286",
   "metadata": {
    "execution": {
     "iopub.execute_input": "2023-08-29T17:02:39.311028Z",
     "iopub.status.busy": "2023-08-29T17:02:39.310612Z",
     "iopub.status.idle": "2023-08-29T17:02:39.317843Z",
     "shell.execute_reply": "2023-08-29T17:02:39.316811Z"
    },
    "papermill": {
     "duration": 0.039542,
     "end_time": "2023-08-29T17:02:39.319817",
     "exception": false,
     "start_time": "2023-08-29T17:02:39.280275",
     "status": "completed"
    },
    "tags": []
   },
   "outputs": [
    {
     "data": {
      "text/plain": [
       "0.9"
      ]
     },
     "execution_count": 41,
     "metadata": {},
     "output_type": "execute_result"
    }
   ],
   "source": [
    "#Testing model accuracy on test data\n",
    "from sklearn.metrics import accuracy_score\n",
    "accuracy_score(Y_test,pred3)"
   ]
  },
  {
   "cell_type": "code",
   "execution_count": 42,
   "id": "eeec4229",
   "metadata": {
    "execution": {
     "iopub.execute_input": "2023-08-29T17:02:39.379938Z",
     "iopub.status.busy": "2023-08-29T17:02:39.379007Z",
     "iopub.status.idle": "2023-08-29T17:02:39.386101Z",
     "shell.execute_reply": "2023-08-29T17:02:39.385049Z"
    },
    "papermill": {
     "duration": 0.03937,
     "end_time": "2023-08-29T17:02:39.388041",
     "exception": false,
     "start_time": "2023-08-29T17:02:39.348671",
     "status": "completed"
    },
    "tags": []
   },
   "outputs": [
    {
     "name": "stdout",
     "output_type": "stream",
     "text": [
      "[[17  0]\n",
      " [ 2  1]]\n"
     ]
    }
   ],
   "source": [
    "#Confusion Matrix\n",
    "from sklearn.metrics import confusion_matrix\n",
    "print(confusion_matrix(Y_test,pred3))"
   ]
  },
  {
   "cell_type": "code",
   "execution_count": 43,
   "id": "1943fa8d",
   "metadata": {
    "execution": {
     "iopub.execute_input": "2023-08-29T17:02:39.448576Z",
     "iopub.status.busy": "2023-08-29T17:02:39.448133Z",
     "iopub.status.idle": "2023-08-29T17:02:39.465361Z",
     "shell.execute_reply": "2023-08-29T17:02:39.464419Z"
    },
    "papermill": {
     "duration": 0.050415,
     "end_time": "2023-08-29T17:02:39.467587",
     "exception": false,
     "start_time": "2023-08-29T17:02:39.417172",
     "status": "completed"
    },
    "tags": []
   },
   "outputs": [
    {
     "name": "stdout",
     "output_type": "stream",
     "text": [
      "              precision    recall  f1-score   support\n",
      "\n",
      "         0.0       0.89      1.00      0.94        17\n",
      "         1.0       1.00      0.33      0.50         3\n",
      "\n",
      "    accuracy                           0.90        20\n",
      "   macro avg       0.95      0.67      0.72        20\n",
      "weighted avg       0.91      0.90      0.88        20\n",
      "\n"
     ]
    }
   ],
   "source": [
    "#Classification report\n",
    "from sklearn.metrics import classification_report\n",
    "print(classification_report(Y_test,pred3))"
   ]
  },
  {
   "cell_type": "code",
   "execution_count": 44,
   "id": "6e2a87fa",
   "metadata": {},
   "outputs": [],
   "source": [
    "import pickle\n",
    "\n",
    "# Save models\n",
    "pickle.dump(model1, open(\"decision_tree_model.pkl\", \"wb\"))\n",
    "pickle.dump(model2, open(\"logistic_regression_model.pkl\", \"wb\"))\n",
    "pickle.dump(model3, open(\"random_forest_model.pkl\", \"wb\"))\n",
    "\n",
    "# Save the scaler\n",
    "pickle.dump(sc, open(\"scaler.pkl\", \"wb\"))\n"
   ]
  },
  {
   "cell_type": "code",
   "execution_count": null,
   "id": "d9d26e22",
   "metadata": {},
   "outputs": [],
   "source": []
  }
 ],
 "metadata": {
  "kernelspec": {
   "display_name": "Python 3",
   "language": "python",
   "name": "python3"
  },
  "language_info": {
   "codemirror_mode": {
    "name": "ipython",
    "version": 3
   },
   "file_extension": ".py",
   "mimetype": "text/x-python",
   "name": "python",
   "nbconvert_exporter": "python",
   "pygments_lexer": "ipython3",
   "version": "3.12.7"
  },
  "papermill": {
   "default_parameters": {},
   "duration": 27.315305,
   "end_time": "2023-08-29T17:02:40.719803",
   "environment_variables": {},
   "exception": null,
   "input_path": "__notebook__.ipynb",
   "output_path": "__notebook__.ipynb",
   "parameters": {},
   "start_time": "2023-08-29T17:02:13.404498",
   "version": "2.4.0"
  }
 },
 "nbformat": 4,
 "nbformat_minor": 5
}
